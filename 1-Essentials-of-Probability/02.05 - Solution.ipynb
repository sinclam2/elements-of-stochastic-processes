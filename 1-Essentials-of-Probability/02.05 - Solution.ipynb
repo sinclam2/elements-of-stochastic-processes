{
 "cells": [
  {
   "cell_type": "markdown",
   "metadata": {},
   "source": [
    "- A continuous random variable $X$ has densidy given by:\n",
    "\n",
    "$$\n",
    "f(x) = cxe^{-x} \\text{  when }x>1\n",
    "$$"
   ]
  },
  {
   "cell_type": "markdown",
   "metadata": {},
   "source": [
    "a) *Determine $c$*\n",
    "\n",
    "b) *Compute $E(X)$*\n",
    "\n",
    "c) *Compute $E(X^{2})$*"
   ]
  },
  {
   "cell_type": "markdown",
   "metadata": {},
   "source": [
    "____\n",
    "\n",
    "# a. \n",
    "\n",
    "- We need the intergral from 1 to infinity to be 1\n",
    "\n",
    "$$\n",
    "\\int_{1}^{\\infty}cxe^{-x}dx = -ce^{-\\infty}(\\infty+1) - \\left (-ce^{-1}(2) \\right ) = \\frac{2c}{e} = 1 \\\\\n",
    "\\implies c = \\frac{e}{2}\n",
    "$$"
   ]
  },
  {
   "cell_type": "markdown",
   "metadata": {},
   "source": [
    "____\n",
    "\n",
    "# b. \n",
    "\n",
    "$$\n",
    "E(X) = \\frac{1}{2}\\int_{1}^{\\infty}x^{2}e^{-x+1}dx = 5/2\n",
    "$$"
   ]
  },
  {
   "cell_type": "markdown",
   "metadata": {},
   "source": [
    "____\n",
    "\n",
    "# c. \n",
    "\n",
    "$$\n",
    "E(X^{2}) = \\frac{1}{2}\\int_{1}^{\\infty}x^{3}e^{-x+1}dx = 8\n",
    "$$"
   ]
  }
 ],
 "metadata": {
  "kernelspec": {
   "display_name": "Python 3",
   "language": "python",
   "name": "python3"
  },
  "language_info": {
   "codemirror_mode": {
    "name": "ipython",
    "version": 3
   },
   "file_extension": ".py",
   "mimetype": "text/x-python",
   "name": "python",
   "nbconvert_exporter": "python",
   "pygments_lexer": "ipython3",
   "version": "3.6.5"
  }
 },
 "nbformat": 4,
 "nbformat_minor": 2
}

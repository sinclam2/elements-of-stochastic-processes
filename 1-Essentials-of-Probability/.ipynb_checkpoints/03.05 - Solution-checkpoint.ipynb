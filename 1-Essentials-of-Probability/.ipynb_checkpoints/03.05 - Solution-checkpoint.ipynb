{
 "cells": [
  {
   "cell_type": "markdown",
   "metadata": {},
   "source": [
    "- Suppose $Var(X) = 2$, $Var(Y) = 5$, and $Cov(X,Y) = 1$\n",
    "    - Compute $\\rho \\left (2X + Y, 3X - Y \\right ) $"
   ]
  },
  {
   "cell_type": "markdown",
   "metadata": {},
   "source": [
    "____\n",
    "\n",
    "- To keep things simple, let's set $\\alpha=2X+Y$ and $\\beta=3X-Y$\n",
    "    - $\\implies \\rho \\left (2X + Y, 3X - Y \\right ) = \\rho \\left (\\alpha, \\beta \\right )$"
   ]
  },
  {
   "cell_type": "markdown",
   "metadata": {},
   "source": [
    "- Recall: $\\rho(\\alpha,\\beta) = \\frac{Cov(\\alpha,\\beta)}{\\sqrt{Var(\\alpha)Var(\\beta)}}$"
   ]
  },
  {
   "cell_type": "markdown",
   "metadata": {},
   "source": [
    "- So, we can split this up into a few calculations:\n",
    "\n",
    "1. \n",
    "\n",
    "$$\n",
    "Cov(\\alpha, \\beta) = Cov(2X+Y, 3X-Y) = Cov(2X, 3X) + Cov(2X, -Y) + Cov(Y, 3X) + Cov(Y,-Y)"
   ]
  }
 ],
 "metadata": {
  "kernelspec": {
   "display_name": "Python 3",
   "language": "python",
   "name": "python3"
  },
  "language_info": {
   "codemirror_mode": {
    "name": "ipython",
    "version": 3
   },
   "file_extension": ".py",
   "mimetype": "text/x-python",
   "name": "python",
   "nbconvert_exporter": "python",
   "pygments_lexer": "ipython3",
   "version": "3.6.4"
  }
 },
 "nbformat": 4,
 "nbformat_minor": 2
}

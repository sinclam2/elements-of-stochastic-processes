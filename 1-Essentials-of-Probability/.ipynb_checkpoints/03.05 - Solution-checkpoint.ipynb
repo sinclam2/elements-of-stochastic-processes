{
 "cells": [
  {
   "cell_type": "markdown",
   "metadata": {},
   "source": [
    "- Suppose $Var(X) = 2$, $Var(Y) = 5$, and $Cov(X,Y) = 1$\n",
    "    - Compute $\\rho \\left (2X + Y, 3X - Y \\right ) $"
   ]
  },
  {
   "cell_type": "markdown",
   "metadata": {},
   "source": [
    "____\n",
    "\n",
    "- To keep things simple, let's set $\\alpha=2X+Y$ and $\\beta=3X-Y$\n",
    "    - $\\implies \\rho \\left (2X + Y, 3X - Y \\right ) = \\rho \\left (\\alpha, \\beta \\right )$"
   ]
  },
  {
   "cell_type": "markdown",
   "metadata": {},
   "source": [
    "- Recall: $\\rho(\\alpha,\\beta) = \\frac{Cov(\\alpha,\\beta)}{\\sqrt{Var(\\alpha)Var(\\beta)}}$"
   ]
  },
  {
   "cell_type": "markdown",
   "metadata": {},
   "source": [
    "- So, we can split this up into a few calculations:\n",
    "    - We start with the numberator\n",
    "\n",
    "$$\n",
    "Cov(\\alpha, \\beta) = Cov(2X+Y, 3X-Y) = Cov(2X, 3X) + Cov(2X, -Y) + Cov(Y, 3X) + Cov(Y,-Y)\n",
    "$$\n",
    "\n",
    "- We'll split this up into 4 parts"
   ]
  },
  {
   "cell_type": "markdown",
   "metadata": {},
   "source": [
    "$$\n",
    "Cov(2X, 3X) = 2Cov(X, 3X) = 6Cov(X,X) = 6Var(X) = 6\\cdot2 = 12\n",
    "$$"
   ]
  },
  {
   "cell_type": "markdown",
   "metadata": {},
   "source": [
    "$$\n",
    "Cov(2X, -Y) = -2Cov(X,y) = -2\\cdot1 = -2\n",
    "$$"
   ]
  },
  {
   "cell_type": "markdown",
   "metadata": {},
   "source": [
    "$$\n",
    "Cov(Y, 3X) = 3Cov(Y,X) = 3Cov(X,Y) = 3\\cdot1 = 3\n",
    "$$"
   ]
  },
  {
   "cell_type": "markdown",
   "metadata": {},
   "source": [
    "$$\n",
    "Cov(Y,-Y) = -Cov(Y,Y) = -Var(Y) = -5\n",
    "$$"
   ]
  },
  {
   "cell_type": "markdown",
   "metadata": {},
   "source": [
    "- Putting the four parts together:\n",
    "\n",
    "$$\n",
    "Cov(\\alpha, \\beta) = 12 - 2 + 3 - 5 = 8\n",
    "$$"
   ]
  },
  {
   "cell_type": "markdown",
   "metadata": {},
   "source": [
    "- Now we tackle the denominator\n",
    "    - Let's start by calculating $Var(\\alpha)$\n",
    "    \n",
    "$$\n",
    "Var(\\alpha) = Var(2X+Y) = Cov(2X+Y, 2X+Y) = Cov(2X, 2X) + Cov(2X, Y) + Cov(Y, 2X) + Cov(Y,Y)\n",
    "$$"
   ]
  },
  {
   "cell_type": "markdown",
   "metadata": {},
   "source": [
    "$$\n",
    "= 4Var(X) + 4Cov(X,Y) + Var(Y) = 4\\cdot2 + 4\\cdot1 + 5 = 8 + 4 + 5 = 17\n",
    "$$"
   ]
  },
  {
   "cell_type": "markdown",
   "metadata": {},
   "source": [
    "- Finally, we calculate $Var(\\beta)$\n",
    "\n",
    "$$\n",
    "Var(\\beta) = Var(3X-Y) = 9Var(X) - 6Cov(X,Y) + Var(Y) = 9\\cdot2 - 6\\cdot1 + 5 = 8\n",
    "$$"
   ]
  },
  {
   "cell_type": "markdown",
   "metadata": {},
   "source": [
    "- Putting it all together:\n",
    "\n",
    "$$\n",
    "\\rho \\left (2X + Y, 3X - Y \\right ) = \\frac{8}{\\sqrt{17\\cdot8}} \\approx 0.686\n",
    "$$"
   ]
  }
 ],
 "metadata": {
  "kernelspec": {
   "display_name": "Python 3",
   "language": "python",
   "name": "python3"
  },
  "language_info": {
   "codemirror_mode": {
    "name": "ipython",
    "version": 3
   },
   "file_extension": ".py",
   "mimetype": "text/x-python",
   "name": "python",
   "nbconvert_exporter": "python",
   "pygments_lexer": "ipython3",
   "version": "3.6.8"
  }
 },
 "nbformat": 4,
 "nbformat_minor": 2
}

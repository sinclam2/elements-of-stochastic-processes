{
 "cells": [
  {
   "cell_type": "markdown",
   "metadata": {},
   "source": [
    "- Continuous $X$ and $Y$ have joint density function:\n",
    "\n",
    "$$\n",
    "f(x,y) = \\left\\{\\begin{matrix}x + y & 0 < x \\text{ and }0< y < 1 \\\\ 0 & otherwise\\end{matrix}\\right.\n",
    "$$"
   ]
  },
  {
   "cell_type": "markdown",
   "metadata": {},
   "source": [
    "1. Compute the marginal density functions of $X$ and $Y$\n",
    "2. Calculate $P(X+Y\\leq 1/2)$"
   ]
  },
  {
   "cell_type": "markdown",
   "metadata": {},
   "source": [
    "____\n",
    "\n",
    "# 1.\n",
    "\n",
    "**Recall**: the marginal density function of $X$ is defined as:\n",
    "\n",
    "$$\n",
    "f_{X}(x) = P(X\\leq x) = \\int_{-\\infty}^{\\infty}f(x,y)dy\n",
    "$$"
   ]
  },
  {
   "cell_type": "markdown",
   "metadata": {},
   "source": [
    "- For this function $f(x,y)$:\n",
    "\n",
    "$$\n",
    "f_{X}(x) = \\int_{0}^{1}(x+y)dy\n",
    "$$"
   ]
  },
  {
   "cell_type": "markdown",
   "metadata": {},
   "source": [
    "$$\n",
    "= (xy + \\frac{y^{2}}{2})|^{1}_{0} = x + 1/2\n",
    "$$"
   ]
  },
  {
   "cell_type": "markdown",
   "metadata": {},
   "source": [
    "$$\n",
    "f_{Y}(y) = \\int_{0}^{1}(x+y)dx = y + 1/2\n",
    "$$"
   ]
  },
  {
   "cell_type": "markdown",
   "metadata": {},
   "source": [
    "____\n",
    "\n",
    "# 2.\n",
    "\n",
    "- Both $X$ and $Y$ have range $[0,1]$\n",
    "    - This means that if their sum is less than or equal to 1/2, they both are bounded by $[0,1/2]$"
   ]
  },
  {
   "cell_type": "markdown",
   "metadata": {},
   "source": [
    "- Let's consider the case where $X=1/4$\n",
    "    - This means that for the sum to be less than 1/2, $Y < 1/4 = 1 - 1/4$\n",
    "- So, more generally, if $X=x$, where $x$ is some value between 0 and 1/2, then $Y$ must be in the range $[0,1/2-x]$"
   ]
  },
  {
   "cell_type": "markdown",
   "metadata": {},
   "source": [
    "- So now, to solve for $P(X+Y\\leq 1/2)$, we integrate:\n",
    "\n",
    "$$\n",
    "P(X+Y\\leq 1/2) = \\int_{0}^{1/2}\\int_{0}^{1/2 - x}(x+y)dydx\n",
    "$$"
   ]
  },
  {
   "cell_type": "markdown",
   "metadata": {},
   "source": [
    "- We'll start with the inner integral:\n",
    "\n",
    "$$\n",
    "\\int_{0}^{1/2 - x}(x+y)dy = \\left [ xy + \\frac{y^{2}}{2} \\right ] |^{1/2-x}_{0}\n",
    "$$"
   ]
  },
  {
   "cell_type": "markdown",
   "metadata": {},
   "source": [
    "$$\n",
    "= 1/8\\left( 1 - 4x^{2}\\right )\n",
    "$$"
   ]
  },
  {
   "cell_type": "markdown",
   "metadata": {},
   "source": [
    "- Then, onto the outer integral:\n",
    "\n",
    "$$\n",
    "\\int_{0}^{1/2}1/8\\left( 1 - 4x^{2}\\right )dx = 1/24\n",
    "$$"
   ]
  }
 ],
 "metadata": {
  "kernelspec": {
   "display_name": "Python 3",
   "language": "python",
   "name": "python3"
  },
  "language_info": {
   "codemirror_mode": {
    "name": "ipython",
    "version": 3
   },
   "file_extension": ".py",
   "mimetype": "text/x-python",
   "name": "python",
   "nbconvert_exporter": "python",
   "pygments_lexer": "ipython3",
   "version": "3.6.8"
  }
 },
 "nbformat": 4,
 "nbformat_minor": 2
}

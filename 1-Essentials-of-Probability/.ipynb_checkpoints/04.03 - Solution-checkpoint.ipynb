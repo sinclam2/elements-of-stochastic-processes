{
 "cells": [
  {
   "cell_type": "markdown",
   "metadata": {},
   "source": [
    "- An unfair coin produces heads with probability 3/4\n",
    "- The coin is tossed three times\n",
    "- Let $X$ denote the number of heads obtained in all three tosses\n",
    "- Let $Y$ denote the number of heads obtained in the first two tosses\n",
    "\n",
    "- *Compute the marginal mass functions for $X$ and $Y$*"
   ]
  },
  {
   "cell_type": "markdown",
   "metadata": {},
   "source": [
    "____\n",
    "\n",
    "- The marginal mass function for $X$ gives:\n",
    "\n",
    "$$\n",
    "p_{X}(x) = P(X=x)\n",
    "$$"
   ]
  },
  {
   "cell_type": "markdown",
   "metadata": {},
   "source": [
    "- Let's start with $Y$ (since it's easier)\n",
    "\n",
    "$$\n",
    "P(Y=0) = (1 - 3/4)^{2} = 1/16; \\text{   }P(Y=2) = (3/4)^{2} = 9/16\n",
    "$$"
   ]
  },
  {
   "cell_type": "markdown",
   "metadata": {},
   "source": [
    "$$\n",
    "\\implies P(Y=1) = 1 - P(Y=0) - P(Y=2) = 1 - 1/16 - 9/16 = 10/16\n",
    "$$"
   ]
  },
  {
   "cell_type": "markdown",
   "metadata": {},
   "source": [
    "- Now, onto $X$\n",
    "    - We'll use the binomial distribution to calculate some of these probabilities\n",
    "\n",
    "$$\n",
    "P(X=0) = (1-3/4)^{3} = 1/64\n",
    "$$"
   ]
  },
  {
   "cell_type": "markdown",
   "metadata": {},
   "source": [
    "$$\n",
    "P(X=1) = \\binom{3}{1}(3/4)^{1}(1-3/4)^{3-1} = 9/64\n",
    "$$"
   ]
  },
  {
   "cell_type": "markdown",
   "metadata": {},
   "source": [
    "$$\n",
    "P(X=2) = \\binom{3}{2}(3/4)^{2}(1-3/4)^{3-2} = 27/64\n",
    "$$"
   ]
  },
  {
   "cell_type": "markdown",
   "metadata": {},
   "source": [
    "$$\n",
    "P(X=3) = (3/4)^{3} = 27/64\n",
    "$$"
   ]
  }
 ],
 "metadata": {
  "kernelspec": {
   "display_name": "Python 3",
   "language": "python",
   "name": "python3"
  },
  "language_info": {
   "codemirror_mode": {
    "name": "ipython",
    "version": 3
   },
   "file_extension": ".py",
   "mimetype": "text/x-python",
   "name": "python",
   "nbconvert_exporter": "python",
   "pygments_lexer": "ipython3",
   "version": "3.6.8"
  }
 },
 "nbformat": 4,
 "nbformat_minor": 2
}

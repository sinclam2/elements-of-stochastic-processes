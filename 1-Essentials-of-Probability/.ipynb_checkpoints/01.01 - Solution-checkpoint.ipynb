{
 "cells": [
  {
   "cell_type": "markdown",
   "metadata": {},
   "source": [
    "# Prove the distributive laws:\n",
    "\n",
    "## a. $A \\cap \\left ( \\bigcup_{i=1}^{\\infty}B_{i} \\right ) = \\bigcup_{i=1}^{\\infty} \\left (A \\cap B_{i} \\right )$\n",
    "\n",
    "## b. $A \\cup \\left ( \\bigcap_{i=1}^{\\infty}B_{i} \\right ) = \\bigcap_{i=1}^{\\infty} \\left (A \\cup B_{i} \\right )$"
   ]
  },
  {
   "cell_type": "markdown",
   "metadata": {},
   "source": [
    "______\n",
    "\n",
    "# a. \n",
    "\n",
    "- For some $i$:\n",
    "\n",
    "$$\n",
    "A \\cap B_{i} = \\{ a_{j} \\in A \\text{ if } a_{j} \\in B_{i}\\}\n",
    "$$"
   ]
  },
  {
   "cell_type": "markdown",
   "metadata": {},
   "source": [
    "- Then:\n",
    "\n",
    "$$\n",
    "\\bigcup_{i=1}^{\\infty} \\left (A \\cap B_{i} \\right ) = \\bigcup_{i=1}^{\\infty}\\{ a_{j} \\in A \\text{ if } a_{j} \\in B_{i}\\} = \\{ a_{j} \\in A \\text{ if } a_{j} \\in \\bigcup_{i=1}^{\\infty} B_{i}\\} = A \\cap \\left ( \\bigcup_{i=1}^{\\infty}B_{i} \\right )\n",
    "$$"
   ]
  },
  {
   "cell_type": "markdown",
   "metadata": {},
   "source": [
    "____\n",
    "\n",
    "# b.\n",
    "\n",
    "- For some $i$:\n",
    "\n",
    "$$\n",
    "A \\cup B_{i} = \\left \\{ a_{j} \\in A \\right \\} \\cup \\left \\{ b_{k} \\in B_{i} \\right \\} = \\left \\{ a_{j} \\in A \\right \\} \\cup \\left \\{ b_{k} \\in B_{i} \\setminus A \\right \\}\n",
    "$$"
   ]
  },
  {
   "cell_type": "markdown",
   "metadata": {},
   "source": [
    "- Since the union contains all the elements that are in $A$ and/or $B$, we can remove the elements of $A$ from $B_{i}$ since they're already accounted for"
   ]
  },
  {
   "cell_type": "markdown",
   "metadata": {},
   "source": [
    "- Then:\n",
    "\n",
    "$$\n",
    "\\bigcap^{\\infty}_{i=1} \\left ( A \\cup B_{i} \\right ) = \\bigcap^{\\infty}_{i=1} \\left (  \\left \\{ a_{j} \\in A \\right \\} \\cup \\left \\{ b_{k} \\in B_{i} \\setminus A \\right \\} \\right )\n",
    "$$"
   ]
  },
  {
   "cell_type": "markdown",
   "metadata": {},
   "source": [
    "- Since each subset in the intersection on the right will contain $ \\left \\{ a_{j} \\in A \\right \\}$, we know that it must be included in the total intersection\n",
    "\n",
    "- Therefore we can express this as:\n",
    "\n",
    "$$\n",
    "\\bigcap^{\\infty}_{i=1} \\left ( A \\cup B_{i} \\right ) = \\left \\{ a_{j} \\in A \\right \\} \\cup\\bigcap^{\\infty}_{i=1} \\left (  \\left \\{ b_{k} \\in B_{i} \\setminus A \\right \\} \\right ) = A \\cup\\bigcap^{\\infty}_{i=1} \\left (  \\left \\{ b_{k} \\in B_{i} \\setminus A \\right \\} \\right )\n",
    "$$"
   ]
  },
  {
   "cell_type": "markdown",
   "metadata": {},
   "source": [
    "- $\\left (  \\left \\{ b_{k} \\in B_{i} \\setminus A \\right \\} \\right )$ gives us the events that a) are an element of **each** $B_{i}$ and b) are **not** an element of $A$\n",
    "\n",
    "- When we take the union of $A$ and $\\left (  \\left \\{ b_{k} \\in B_{i} \\setminus A \\right \\} \\right )$, we're essentially adding back all the elements in $A$ that we removed\n",
    "    - Therefore, we can state the following equivalency:\n",
    "    \n",
    "$$\n",
    "A \\cup\\bigcap^{\\infty}_{i=1} \\left (  \\left \\{ b_{k} \\in B_{i} \\setminus A \\right \\} \\right ) = A \\cup\\bigcap^{\\infty}_{i=1} \\left (  \\left \\{ b_{k} \\in B_{i} \\right \\} \\right ) = A \\cup\\bigcap^{\\infty}_{i=1}  B_{i}\n",
    "$$"
   ]
  }
 ],
 "metadata": {
  "kernelspec": {
   "display_name": "Python 3",
   "language": "python",
   "name": "python3"
  },
  "language_info": {
   "codemirror_mode": {
    "name": "ipython",
    "version": 3
   },
   "file_extension": ".py",
   "mimetype": "text/x-python",
   "name": "python",
   "nbconvert_exporter": "python",
   "pygments_lexer": "ipython3",
   "version": "3.6.5"
  }
 },
 "nbformat": 4,
 "nbformat_minor": 2
}

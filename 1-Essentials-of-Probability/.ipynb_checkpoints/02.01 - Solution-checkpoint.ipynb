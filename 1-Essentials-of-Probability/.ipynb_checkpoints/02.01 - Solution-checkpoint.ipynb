{
 "cells": [
  {
   "cell_type": "markdown",
   "metadata": {},
   "source": [
    "- Suppose $X$ is uniformly distributed on the integers $\\{1,2,3\\}$ and let $Y=1/X$\n",
    "- *What is $E(X)$ and $E(Y)$?*\n",
    "    - *Does $E(Y)=1/E(X)$?*"
   ]
  },
  {
   "cell_type": "markdown",
   "metadata": {},
   "source": [
    "_____\n",
    "\n",
    "- Since $X$ is uniformly distributed, $P(X=1)=P(X=2)=P(X=3)=1/3$\n",
    "\n",
    "$$\n",
    "E(X) = (1/3)(1) + (1/3)(2) + (1/3)(3) = 6/3 = 2\n",
    "$$\n",
    "\n",
    "- Then, we define $g(X) = 1/X = Y$ so:\n",
    "\n",
    "$$\n",
    "E(Y) = (1/3)(1/1) + (1/3)(1/2) + (1/3)(1/3) = 1/3 + 1/6 + 1/9 = 11/18\n",
    "$$\n",
    "\n",
    "- As we can see, $E(Y) = 11/18 \\neq 1/2 = 1/E(X)$"
   ]
  }
 ],
 "metadata": {
  "kernelspec": {
   "display_name": "Python 3",
   "language": "python",
   "name": "python3"
  },
  "language_info": {
   "codemirror_mode": {
    "name": "ipython",
    "version": 3
   },
   "file_extension": ".py",
   "mimetype": "text/x-python",
   "name": "python",
   "nbconvert_exporter": "python",
   "pygments_lexer": "ipython3",
   "version": "3.6.5"
  }
 },
 "nbformat": 4,
 "nbformat_minor": 2
}

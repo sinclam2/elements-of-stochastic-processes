{
 "cells": [
  {
   "cell_type": "markdown",
   "metadata": {},
   "source": [
    "Continuous $X$ and $Y$ have the joint density function:\n",
    "\n",
    "$$\n",
    "f(x,y)=\\left\\{\\begin{matrix}20x^{-3}y^{-4} & \\text{for }x>1\\text{ and }y>1\\\\ 0 & \\text{otherwise}\\end{matrix}\\right.\n",
    "$$"
   ]
  },
  {
   "cell_type": "markdown",
   "metadata": {},
   "source": [
    "a) Compute the marginal density functions for $X$ and $Y$\n",
    "\n",
    "b) Compute $E[XY^{2}]$"
   ]
  },
  {
   "cell_type": "markdown",
   "metadata": {},
   "source": [
    "___\n",
    "# a)\n",
    "\n",
    "$$\n",
    "f_{X}(x) = \\int_{\\infty}^{\\infty}20x^{-3}y^{-4}dy = \\int_{1}^{\\infty}20x^{-3}y^{-4}dy = \\frac{20}{3x^{3}}\n",
    "$$"
   ]
  },
  {
   "cell_type": "markdown",
   "metadata": {},
   "source": [
    "$$\n",
    "f_{Y}(y) = \\int_{\\infty}^{\\infty}20x^{-3}y^{-4}dx = \\int_{1}^{\\infty}20x^{-3}y^{-4}dx = \\frac{10}{y^{4}}\n",
    "$$"
   ]
  },
  {
   "cell_type": "markdown",
   "metadata": {},
   "source": [
    "____\n",
    "\n",
    "# b)\n",
    "\n",
    "$$\n",
    "E[XY^{2}] = \\int_{1}^{\\infty}\\int_{1}^{\\infty}xy^{2}\\cdot20x^{-3}y^{-4}dxdy\n",
    "$$"
   ]
  },
  {
   "cell_type": "markdown",
   "metadata": {},
   "source": [
    "$$\n",
    "= \\int_{1}^{\\infty}\\int_{1}^{\\infty}\\frac{20}{x^{2}y^{2}}dxdy = 20\n",
    "$$"
   ]
  }
 ],
 "metadata": {
  "kernelspec": {
   "display_name": "Python 3",
   "language": "python",
   "name": "python3"
  },
  "language_info": {
   "codemirror_mode": {
    "name": "ipython",
    "version": 3
   },
   "file_extension": ".py",
   "mimetype": "text/x-python",
   "name": "python",
   "nbconvert_exporter": "python",
   "pygments_lexer": "ipython3",
   "version": "3.6.8"
  }
 },
 "nbformat": 4,
 "nbformat_minor": 2
}

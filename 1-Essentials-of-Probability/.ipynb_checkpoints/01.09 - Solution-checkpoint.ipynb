{
 "cells": [
  {
   "cell_type": "markdown",
   "metadata": {},
   "source": [
    "- Show that if $A$ and $B$ are independent, then so are:\n",
    "\n",
    "    a) $A^{C}$ and $B$\n",
    "    \n",
    "    b) $A$ and $B^{C}$\n",
    "    \n",
    "    c) $A^{C}$ and $B^{C}$"
   ]
  },
  {
   "cell_type": "markdown",
   "metadata": {},
   "source": [
    "____\n",
    "\n",
    "# $A$ and $B$ are independent $\\implies P(A\\cap B) = P(A)\\cdot P(B)$\n",
    "_____\n",
    "\n",
    "# a)\n",
    "\n",
    "# We know $P(B^{C}) = 1-P(B)$ so:\n",
    "\n",
    "$$\n",
    "P(A)\\cdot P(B^{C}) = P(A) \\cdot (1-P(B)) = P(A) - P(A)\\cdot P(B) = P(A) - P(A\\cap B)\n",
    "$$\n",
    "\n",
    "# But $P(A) - P(A\\cap B)$ is just the probability of events in $A$ that are not in $B$ in other words events in $A$ that are ALSO in $B^{C}$\n",
    "\n",
    "$$\n",
    "\\implies P(A) - P(A \\cap B) = P(A\\cap B^{C}) \\implies P(A\\cap B^{C} = P(A)\\cdot P(B^{C})\n",
    "$$\n",
    "\n",
    "# And this is the definition of being independent"
   ]
  },
  {
   "cell_type": "markdown",
   "metadata": {},
   "source": [
    "_____\n",
    "\n",
    "# b)\n",
    "\n",
    "- Same solution as a)"
   ]
  },
  {
   "cell_type": "markdown",
   "metadata": {},
   "source": [
    "____\n",
    "\n",
    "# c)\n",
    "\n",
    "$$\n",
    "P(A^{C})\\cdot P(B^{C}) = (1-P(A))\\cdot(1-P(B)) = 1 - P(A) - P(B) + P(A)\\cdot P(B) = 1 - P(A) - P(B) + P(A\\cap B)\\\\ = 1-(P(A)+P(B)-P(A\\cap B) = 1-P(A\\cup B) = P(A^{C} \\cap B^{C})\n",
    "$$"
   ]
  }
 ],
 "metadata": {
  "kernelspec": {
   "display_name": "Python 3",
   "language": "python",
   "name": "python3"
  },
  "language_info": {
   "codemirror_mode": {
    "name": "ipython",
    "version": 3
   },
   "file_extension": ".py",
   "mimetype": "text/x-python",
   "name": "python",
   "nbconvert_exporter": "python",
   "pygments_lexer": "ipython3",
   "version": "3.6.4"
  }
 },
 "nbformat": 4,
 "nbformat_minor": 2
}

{
 "cells": [
  {
   "cell_type": "markdown",
   "metadata": {},
   "source": [
    "- Compute the marginal mass function for the following joint mass function for $(X,Y)$\n",
    "\n",
    "$$\n",
    "p(x,y) = \\left\\{\\begin{matrix}1/2 & X=1, Y=0\\\\ 1/2 & X=0, Y=1\\\\ 0 & otherwise\\end{matrix}\\right.\n",
    "$$"
   ]
  },
  {
   "cell_type": "markdown",
   "metadata": {},
   "source": [
    "____\n",
    "\n",
    "- The marginal probability mass function is defined as:\n",
    "\n",
    "$$\n",
    "p_{X}(x) = \\sum_{y\\in Range(Y)}p(x,y)\n",
    "$$"
   ]
  },
  {
   "cell_type": "markdown",
   "metadata": {},
   "source": [
    "$$\n",
    "p_{Y}(y) = \\sum_{x\\in Range(X)}p(x,y)\n",
    "$$"
   ]
  },
  {
   "cell_type": "markdown",
   "metadata": {},
   "source": [
    "- It looks like $Range(X) = \\{0,1\\} = Range(Y)$"
   ]
  },
  {
   "cell_type": "markdown",
   "metadata": {},
   "source": [
    "- Let's first try to calculate the probability that $X=1$\n",
    "    - To do this, we fix $X$ at 1, then take the sum of the probabilities $P(X=1 \\cap Y=y)$ for all the $y$ values in $Range(Y)$ i.e. $\\{0,1\\}$\n",
    "\n",
    "$$\n",
    "\\implies p_{X}(1) = P(X=1) = P(X=1 \\cap Y=0) + P(X=1 \\cap Y=1) = 1/2 + 0 = 1/2\n",
    "$$"
   ]
  },
  {
   "cell_type": "markdown",
   "metadata": {},
   "source": [
    "- Similarly:\n",
    "\n",
    "$$\n",
    "p_{X}(0) = P(X=0) = P(X=0 \\cap Y=0) + P(X=0 \\cap Y=1) = 0 + 1/2 = 1/2\n",
    "$$"
   ]
  },
  {
   "cell_type": "markdown",
   "metadata": {},
   "source": [
    "- Therefore:\n",
    "\n",
    "$$\n",
    "p_{X}(x) = \\left\\{\\begin{matrix}1/2 & X=0\\\\ 1/2 & X=1\\end{matrix}\\right.\n",
    "$$"
   ]
  },
  {
   "cell_type": "markdown",
   "metadata": {},
   "source": [
    "- Repeating this process for $Y$:\n",
    "\n",
    "$$\n",
    "p_{Y}(1) = P(Y=1 \\cap X=0) + P(Y=1 \\cap X=1) = 1/2 + 0 = 1/2\n",
    "$$"
   ]
  },
  {
   "cell_type": "markdown",
   "metadata": {},
   "source": [
    "$$\n",
    "p_{Y}(0) = P(Y=0 \\cap X=0) + P(Y=0 \\cap X=1) = 0 + 1/2 = 1/2\n",
    "$$"
   ]
  },
  {
   "cell_type": "markdown",
   "metadata": {},
   "source": [
    "- Therefore:\n",
    "\n",
    "$$\n",
    "p_{Y}(y) = \\left\\{\\begin{matrix}1/2 & Y=0\\\\ 1/2 & Y=1\\end{matrix}\\right.\n",
    "$$"
   ]
  }
 ],
 "metadata": {
  "kernelspec": {
   "display_name": "Python 3",
   "language": "python",
   "name": "python3"
  },
  "language_info": {
   "codemirror_mode": {
    "name": "ipython",
    "version": 3
   },
   "file_extension": ".py",
   "mimetype": "text/x-python",
   "name": "python",
   "nbconvert_exporter": "python",
   "pygments_lexer": "ipython3",
   "version": "3.6.8"
  }
 },
 "nbformat": 4,
 "nbformat_minor": 2
}

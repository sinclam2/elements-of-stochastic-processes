{
 "cells": [
  {
   "cell_type": "markdown",
   "metadata": {},
   "source": [
    "- Suppose 5% of the population has dread disease\n",
    "- Dr. Careful routinely tests all his patients for the disease\n",
    "    - The test gives the correct diagnosis 99% of the time (whether the patient has the disease or not)\n",
    "- *a) What is the probability that any particular patient will test positive?*\n",
    "- *b) If a patient does test positive for the dread disease, what is the probability that he has it?*"
   ]
  },
  {
   "cell_type": "markdown",
   "metadata": {},
   "source": [
    "____\n",
    "a)\n",
    "\n",
    "$$\n",
    "P(P) = P(P|D)\\cdot P(D) + P(P|ND)\\cdot P(ND) = 0.99\\cdot0.05 + 0.01\\cdot0.95 = 0.059\n",
    "$$"
   ]
  },
  {
   "cell_type": "markdown",
   "metadata": {},
   "source": [
    "b)\n",
    "\n",
    "$$\n",
    "P(D|P) = \\frac{P(D\\cap P)}{P(P)} = \\frac{P(D)\\cdot P(P|D)}{P(P)} = \\frac{0.05\\cdot 0.99}{0.059} = 0.839\n",
    "$$"
   ]
  },
  {
   "cell_type": "markdown",
   "metadata": {},
   "source": [
    "____\n",
    "\n",
    "- We can confirm this result by simulation"
   ]
  },
  {
   "cell_type": "code",
   "execution_count": 2,
   "metadata": {},
   "outputs": [],
   "source": [
    "import numpy as np\n",
    "import pandas as pd"
   ]
  },
  {
   "cell_type": "code",
   "execution_count": 20,
   "metadata": {},
   "outputs": [],
   "source": [
    "n_population = 1000000\n",
    "n_dread = round(0.05*n_population)\n",
    "array_dread_assignment = np.random.permutation((np.arange(n_population)<n_dread).astype(int))\n",
    "array_dread_test_positive = np.random.random(size=n_population)<0.99\n",
    "array_non_dread_test_positive = np.random.random(size=n_population)<0.01\n",
    "array_results = array_dread_assignment*array_dread_test_positive + (1-array_dread_assignment)*array_non_dread_test_positive"
   ]
  },
  {
   "cell_type": "code",
   "execution_count": 25,
   "metadata": {},
   "outputs": [],
   "source": [
    "df_results = pd.DataFrame(np.c_[array_dread_assignment,array_results], columns = ['Dread Flag','Positive Test Result Flag'])"
   ]
  },
  {
   "cell_type": "markdown",
   "metadata": {},
   "source": [
    "- Checking a)"
   ]
  },
  {
   "cell_type": "code",
   "execution_count": 27,
   "metadata": {},
   "outputs": [
    {
     "data": {
      "text/plain": [
       "0.058979"
      ]
     },
     "execution_count": 27,
     "metadata": {},
     "output_type": "execute_result"
    }
   ],
   "source": [
    "df_results['Positive Test Result Flag'].mean()"
   ]
  },
  {
   "cell_type": "markdown",
   "metadata": {},
   "source": [
    "- Checking b)"
   ]
  },
  {
   "cell_type": "code",
   "execution_count": 30,
   "metadata": {},
   "outputs": [
    {
     "data": {
      "text/plain": [
       "0.8395869716339714"
      ]
     },
     "execution_count": 30,
     "metadata": {},
     "output_type": "execute_result"
    }
   ],
   "source": [
    "df_results[df_results['Positive Test Result Flag']==1]['Dread Flag'].mean()"
   ]
  },
  {
   "cell_type": "markdown",
   "metadata": {},
   "source": [
    "- Both tie out!"
   ]
  }
 ],
 "metadata": {
  "kernelspec": {
   "display_name": "Python 3",
   "language": "python",
   "name": "python3"
  },
  "language_info": {
   "codemirror_mode": {
    "name": "ipython",
    "version": 3
   },
   "file_extension": ".py",
   "mimetype": "text/x-python",
   "name": "python",
   "nbconvert_exporter": "python",
   "pygments_lexer": "ipython3",
   "version": "3.6.5"
  }
 },
 "nbformat": 4,
 "nbformat_minor": 2
}

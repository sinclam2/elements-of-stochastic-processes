{
 "cells": [
  {
   "cell_type": "markdown",
   "metadata": {},
   "source": [
    "# Stochastic Processes\n",
    "\n",
    "### Definition: Stochastic Process \n",
    "\n",
    "- A **stochastic process** is a series of random variables\n",
    "    - They are usually used to describe the **random** evolution of some system over time\n",
    "\n",
    "**Discrete Case**\n",
    "\n",
    "- If we're measuring time in discrete increments, we describe the process by the form:\n",
    "\n",
    "$$\n",
    "\\{ X_{i} : i=0,1,2,3,... \\}\n",
    "$$\n",
    "\n",
    "*Example*\n",
    "\n",
    "- The amount of rainfall on a particular day\n",
    "\n",
    "**Continuous Case**\n",
    "\n",
    "- If we're measuring time continuously, we describe the process by the form:\n",
    "\n",
    "$$\n",
    "\\{ X_{t} : t\\geq 0 \\}\n",
    "$$\n",
    "\n",
    "*Example*\n",
    "\n",
    "- The price of one share of IBM stock $t$ seconds after the market opens on a particular day"
   ]
  },
  {
   "cell_type": "markdown",
   "metadata": {},
   "source": [
    "____\n",
    "\n",
    "# IID Sequences\n",
    "\n",
    "### Definition: Independent, Identically Distributed Sequences\n",
    "\n",
    "- These are the most basic stochastic processes\n",
    "    - **Note**: They're so basic, that sometimes they're not even considered to be a stochastic process\n",
    "    \n",
    "- A sequence of random variables $X_{1},X_{2},...$ are idependent and identically distributed (abbr. iid) if:\n",
    "    1. They are defined on the same probability space $\\Omega$\n",
    "    2. They are independent\n",
    "    3. They all have the same distribution function\n",
    "        - i.e. $F_{X_{i}}(x) = P[X_{i} \\leq x] = F(x)$"
   ]
  }
 ],
 "metadata": {
  "kernelspec": {
   "display_name": "Python 3",
   "language": "python",
   "name": "python3"
  },
  "language_info": {
   "codemirror_mode": {
    "name": "ipython",
    "version": 3
   },
   "file_extension": ".py",
   "mimetype": "text/x-python",
   "name": "python",
   "nbconvert_exporter": "python",
   "pygments_lexer": "ipython3",
   "version": "3.6.8"
  }
 },
 "nbformat": 4,
 "nbformat_minor": 2
}

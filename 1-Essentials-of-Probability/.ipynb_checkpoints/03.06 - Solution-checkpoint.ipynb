{
 "cells": [
  {
   "cell_type": "markdown",
   "metadata": {},
   "source": [
    "- If $X_{1},X_{2},...,X_{n}$ are random variables defined on the same probability space $\\Omega$, their *covariance matrix* is an nxn whose $ij^{th}$ element is given by $Cov(X_{i},X_{j})$\n",
    "- Suppose $N_{1}$, $N_{2}$, $N_{3}$ are uncorrelated standard normals and $X_{1} = 2N_{1} + N_{2} + N_{3}$, $X_{2}=N_{1}+2N_{2}+3N_{3}$, $X_{3}=N_{1}+4N_{2}$\n",
    "- Compute the covariance matrix for $X_{1}$, $X_{2}$, and $X_{3}$"
   ]
  },
  {
   "cell_type": "markdown",
   "metadata": {},
   "source": [
    "____\n",
    "\n",
    "- There are 3 variables, therefore we need to calculate\n",
    "    1. $Var(X_{1})$\n",
    "    2. $Var(X_{2})$\n",
    "    3. $Var(X_{3})$\n",
    "    4. $Cov(X_{1},X_{2})$\n",
    "    5. $Cov(X_{1},X_{3})$\n",
    "    6. $Cov(X_{2},X_{3})$"
   ]
  },
  {
   "cell_type": "markdown",
   "metadata": {},
   "source": [
    "- **Recall**: For a standard normal random variable $N_{i}$, $Var(N_{i}) = 1$, and for two uncorrelated standard normals $N_{i}$,$N_{j}$, $Cov(N_{i},N_{j})=0$"
   ]
  },
  {
   "cell_type": "markdown",
   "metadata": {},
   "source": [
    "1. \n",
    "\n",
    "$$\n",
    "Var(X_{1}) = Var(2N_{1} + N_{2} + N_{3}) = Var(2N_{1} + (N_{2} + N_{3}))\n",
    "$$\n",
    "\n",
    "\n",
    "- **Recall**: $Var(aX + bY) = a^{2}Var(X) + 2abCov(X,Y) + b^{2}Var(Y)$"
   ]
  },
  {
   "cell_type": "markdown",
   "metadata": {},
   "source": [
    "$$\n",
    "\\implies Var(X_{1}) = 4Var(N_{1}) + 4Cov(N_{1}, N_{2}+N_{3}) + Var(N_{2}+N_{3})\n",
    "$$"
   ]
  },
  {
   "cell_type": "markdown",
   "metadata": {},
   "source": [
    "- Before we continue, let's break down the middle term:\n",
    "\n",
    "$$\n",
    "4Cov(N_{1}, N_{2}+N_{3}) = 4\\left [Cov(N_{1}, N_{2}+N_{3}) \\right ] = 4\\left [Cov(N_{1}, N_{2}) + Cov(N_{1}, N_{3}) \\right ]\n",
    "$$\n",
    "\n",
    "- **Recall**: if $X$ and $Y$ are uncorrelated, then $Cov(X,Y)=0$\n",
    "\n",
    "$$\n",
    "\\implies 4Cov(N_{1}, N_{2}+N_{3}) = 4(0+0)=4\n",
    "$$"
   ]
  },
  {
   "cell_type": "markdown",
   "metadata": {},
   "source": [
    "$$\n",
    "\\implies Var(X_{1}) = 4Var(N_{1}) + Var(N_{2}+N_{3}) = 4Var(N_{1}) + Var(N_{2}) + Var(N_{3}) = 4\\cdot 1 + 1 + 1 = 6\n",
    "$$"
   ]
  },
  {
   "cell_type": "markdown",
   "metadata": {},
   "source": [
    "2.\n",
    "\n",
    "$$\n",
    "Var(X_{2}) = Var(N_{1}+2N_{2}+3N_{3}) = Var(N_{1} + (2N_{2}+3N_{3}))\n",
    "$$"
   ]
  },
  {
   "cell_type": "markdown",
   "metadata": {},
   "source": [
    "$$\n",
    "= Var(N_{1}) + Cov(N_{1}, 2N_{2}+3N_{3}) + Var(2N_{2}+3N_{3})\n",
    "$$"
   ]
  },
  {
   "cell_type": "markdown",
   "metadata": {},
   "source": [
    "$$\n",
    "= Var(N_{1}) + 2Cov(N_{1}, N_{2}) + 3Cov(N_{1}, N_{3}) + 4Var(N_{2}) + 9Var(N_{3})\n",
    "$$"
   ]
  },
  {
   "cell_type": "markdown",
   "metadata": {},
   "source": [
    "$$\n",
    "= 1 + 0 + 0 + 4 + 9 = 14\n",
    "$$"
   ]
  },
  {
   "cell_type": "markdown",
   "metadata": {},
   "source": [
    "3.\n",
    "\n",
    "$$\n",
    "Var(X_{3}) = Var(N_{1}+4N_{2}) = Var(N_{1}) + 16Var(N_{2}) = 1 + 16 = 17\n",
    "$$"
   ]
  },
  {
   "cell_type": "markdown",
   "metadata": {},
   "source": [
    "4.\n",
    "\n",
    "$$\n",
    "Cov(X_{1}, X_{2}) = Cov(2N_{1} + (N_{2} + N_{3}),N_{1}+(2N_{2}+3N_{3}))\n",
    "$$"
   ]
  },
  {
   "cell_type": "markdown",
   "metadata": {},
   "source": [
    "$$\n",
    "= Cov(2N_{1},N_{1}) + Cov(2N_{1},2N_{2}+3N_{3}) + Cov(N_{2}+N_{3},N_{1}) + Cov(N_{2}+N_{3},2N_{2}+3N_{3})\n",
    "$$"
   ]
  },
  {
   "cell_type": "markdown",
   "metadata": {},
   "source": [
    "$$\n",
    "= 2Var(N_{1}) + 0 + 0 + 2Var(N_{2}) + 3Var(N_{3})\n",
    "$$"
   ]
  },
  {
   "cell_type": "markdown",
   "metadata": {},
   "source": [
    "$$\n",
    "= 2 + 2 + 3 = 7\n",
    "$$"
   ]
  },
  {
   "cell_type": "markdown",
   "metadata": {},
   "source": [
    "5.\n",
    "\n",
    "$$\n",
    "Cov(X_{1},X_{3}) = Cov(2N_{1}+(N_{2}+N_{3}),N_{1}+4N_{2})\n",
    "$$"
   ]
  },
  {
   "cell_type": "markdown",
   "metadata": {},
   "source": [
    "$$\n",
    "= 2Var(N_{1}) + Cov(2N_{1},4N_{2}) + Cov(N_{2}+N_{3},N_{1}) + Cov(N_{2}+N_{3},4N_{2})\n",
    "$$"
   ]
  },
  {
   "cell_type": "markdown",
   "metadata": {},
   "source": [
    "$$\n",
    "= 2 + 0 + 0 + 4Var(N_{2}) = 6\n",
    "$$"
   ]
  },
  {
   "cell_type": "markdown",
   "metadata": {},
   "source": [
    "6.\n",
    "\n",
    "$$\n",
    "Cov(X_{2},X_{3}) = Cov(N_{1}+(2N_{2}+3N_{3}),N_{1}+4N_{2})\n",
    "$$"
   ]
  },
  {
   "cell_type": "markdown",
   "metadata": {},
   "source": [
    "$$\n",
    "= Var(N_{1}) + 4Cov(N_{1},N_{2}) + Cov(2N_{2}+3N_{3},N_{1}) + 4Cov(2N_{2}+3N_{3},N_{2})\n",
    "$$"
   ]
  },
  {
   "cell_type": "markdown",
   "metadata": {},
   "source": [
    "$$\n",
    "= 1 + 0 + 0 + 0 + 8Var(N_{2}) = 9\n",
    "$$"
   ]
  },
  {
   "cell_type": "markdown",
   "metadata": {},
   "source": [
    "- Since we know $Cov(X,Y) = Cov(Y,X)$, we can use our values to create the covariance matrix as:\n",
    "\n",
    "$$\n",
    "\\begin{bmatrix}6 & 7 & 6\\\\ 7 & 14 & 9\\\\6 & 9 & 17\\end{bmatrix}\n",
    "$$"
   ]
  },
  {
   "cell_type": "markdown",
   "metadata": {},
   "source": [
    "_____\n",
    "\n",
    "- Let's use `np.random` to try to tie out to our results"
   ]
  },
  {
   "cell_type": "code",
   "execution_count": 1,
   "metadata": {},
   "outputs": [],
   "source": [
    "import pandas as pd\n",
    "import numpy as np"
   ]
  },
  {
   "cell_type": "code",
   "execution_count": 5,
   "metadata": {},
   "outputs": [],
   "source": [
    "sample_size = 1000000\n",
    "\n",
    "N_1 = np.random.normal(size=sample_size)\n",
    "N_2 = np.random.normal(size=sample_size)\n",
    "N_3 = np.random.normal(size=sample_size)\n",
    "\n",
    "X_1 = 2*N_1 + N_2 + N_3\n",
    "X_2 = N_1 + 2*N_2 + 3*N_3\n",
    "X_3 = N_1 + 4*N_2"
   ]
  },
  {
   "cell_type": "code",
   "execution_count": 6,
   "metadata": {},
   "outputs": [],
   "source": [
    "df = pd.DataFrame({'X_1':X_1,\n",
    "                  'X_2':X_2,\n",
    "                  'X_3':X_3})"
   ]
  },
  {
   "cell_type": "markdown",
   "metadata": {},
   "source": [
    "**Creating the covariance matrix**"
   ]
  },
  {
   "cell_type": "code",
   "execution_count": 15,
   "metadata": {},
   "outputs": [
    {
     "data": {
      "text/html": [
       "<div>\n",
       "<style scoped>\n",
       "    .dataframe tbody tr th:only-of-type {\n",
       "        vertical-align: middle;\n",
       "    }\n",
       "\n",
       "    .dataframe tbody tr th {\n",
       "        vertical-align: top;\n",
       "    }\n",
       "\n",
       "    .dataframe thead th {\n",
       "        text-align: right;\n",
       "    }\n",
       "</style>\n",
       "<table border=\"1\" class=\"dataframe\">\n",
       "  <thead>\n",
       "    <tr style=\"text-align: right;\">\n",
       "      <th></th>\n",
       "      <th>X_1</th>\n",
       "      <th>X_2</th>\n",
       "      <th>X_3</th>\n",
       "    </tr>\n",
       "  </thead>\n",
       "  <tbody>\n",
       "    <tr>\n",
       "      <th>X_1</th>\n",
       "      <td>6.015706</td>\n",
       "      <td>7.020737</td>\n",
       "      <td>6.005459</td>\n",
       "    </tr>\n",
       "    <tr>\n",
       "      <th>X_2</th>\n",
       "      <td>7.020737</td>\n",
       "      <td>14.008104</td>\n",
       "      <td>9.004524</td>\n",
       "    </tr>\n",
       "    <tr>\n",
       "      <th>X_3</th>\n",
       "      <td>6.005459</td>\n",
       "      <td>9.004524</td>\n",
       "      <td>17.002764</td>\n",
       "    </tr>\n",
       "  </tbody>\n",
       "</table>\n",
       "</div>"
      ],
      "text/plain": [
       "          X_1        X_2        X_3\n",
       "X_1  6.015706   7.020737   6.005459\n",
       "X_2  7.020737  14.008104   9.004524\n",
       "X_3  6.005459   9.004524  17.002764"
      ]
     },
     "execution_count": 15,
     "metadata": {},
     "output_type": "execute_result"
    }
   ],
   "source": [
    "df.cov()"
   ]
  },
  {
   "cell_type": "markdown",
   "metadata": {},
   "source": [
    "- Eyyyyyy"
   ]
  }
 ],
 "metadata": {
  "kernelspec": {
   "display_name": "Python 3",
   "language": "python",
   "name": "python3"
  },
  "language_info": {
   "codemirror_mode": {
    "name": "ipython",
    "version": 3
   },
   "file_extension": ".py",
   "mimetype": "text/x-python",
   "name": "python",
   "nbconvert_exporter": "python",
   "pygments_lexer": "ipython3",
   "version": "3.6.8"
  }
 },
 "nbformat": 4,
 "nbformat_minor": 2
}

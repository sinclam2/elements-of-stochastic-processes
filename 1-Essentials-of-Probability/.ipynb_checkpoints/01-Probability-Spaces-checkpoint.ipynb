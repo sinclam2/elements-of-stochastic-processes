{
 "cells": [
  {
   "cell_type": "markdown",
   "metadata": {},
   "source": [
    "# Probability theory is the mathematical modeling of real-world experiments that have unpredictable outcomes\n",
    "\n",
    "# The mathematical model corresponding to any experiment consists of\n",
    "\n",
    "### 1. the *outcome space* $\\Omega$\n",
    "\n",
    "### 2. the collection of *events* $F$\n",
    "\n",
    "### 3. the *probability measure* $P$\n",
    "\n",
    "# Combining the three ($\\Omega, F, P$), we have a *probability space*"
   ]
  },
  {
   "cell_type": "markdown",
   "metadata": {},
   "source": [
    "_____\n",
    "\n",
    "# 1. The outcome space\n",
    "\n",
    "- aka the *sample space*\n",
    "- consists of all possible outcomes of the experiment\n",
    "\n",
    "**Example**\n",
    "\n",
    "- if our experiment is rolling a die, then the outomes are:\n",
    "\n",
    "$\\Omega = \\{1,2,3,4,5,6\\}$\n",
    "\n",
    "- **Note**: a generic outcome is typically denoted $w$"
   ]
  },
  {
   "cell_type": "markdown",
   "metadata": {},
   "source": [
    "_____\n",
    "\n",
    "# 2. The collection of events\n",
    "\n",
    "- a subset of the outcome space\n",
    "\n",
    "**Example**\n",
    "\n",
    "$\\{2,4,6\\}$ represents the even rolls of the die\n",
    "\n",
    "\n",
    "- If $A \\subset \\Omega$ is an event and the result of our experiment is contained in $A$, we say that *$A$ has occurred*\n",
    "\n",
    "- $F$ denotes all possible subsets of $\\Omega$\n",
    "    - Therefore $F$ must contain both $\\Omega$ and $\\emptyset$\n",
    "    \n",
    "- $A^{C}$ denotes the complement of event $A$\n",
    "    - This means it denotes all possible events **not contained** in $A$\n",
    "    - $A^{C}$ must be contained in $F$\n",
    "    \n",
    "- If $A$ and $B$ are both events, then $A \\cup B$ denotes all events that are contained in **either** $A$ or $B$\n",
    "    - For finite spaces $\\Omega$, then we require that $A \\cup B$ is contained in $F$\n",
    "        - When $\\Omega$ is not finite (i.e. the more general rule), we require the following:\n",
    "        \n",
    "$$\n",
    "A = \\bigcup_{i=1}^{\\infty}A_{i} = A_{1} \\cup A_{2} \\cup A_{3} \\cup... \\in F\n",
    "$$"
   ]
  },
  {
   "cell_type": "markdown",
   "metadata": {},
   "source": [
    "- All these rules can be summarized by the following axioms for any probability space $(\\Omega, F, P)$:\n",
    "\n",
    "### AXIOMS\n",
    "\n",
    "#### 1.1: \n",
    "\n",
    "$\\Omega \\in F$\n",
    "\n",
    "#### 1.2:\n",
    "\n",
    "$A \\in F \\implies A^{C} \\in F$\n",
    "\n",
    "#### 1.3:\n",
    "\n",
    "$A_{1}, A_{2}, A_{3},...\\in F \\implies \\bigcup_{i=1}^{\\infty}A_{i} = A_{1} \\cup A_{2} \\cup A_{3} \\cup... \\subset F$"
   ]
  },
  {
   "cell_type": "markdown",
   "metadata": {},
   "source": [
    "### Aside:\n",
    "\n",
    "- DeMorgan's law states:\n",
    "\n",
    "$$\n",
    "\\left ( A \\cup B \\right )^{C} = A^{C} \\cap B^{C}\n",
    "$$"
   ]
  },
  {
   "cell_type": "markdown",
   "metadata": {},
   "source": [
    "- Let's break this down:\n",
    "    - $A\\cup B$ gives us the set of all events in **both** $A$ and $B$\n",
    "        - Therefore, $\\left ( A \\cup B \\right )^{C}$ is the set of events that **are not elements of $A$ nor $B$**\n",
    "    - $A^{C}$ gives us the set of events that are not in $A$, and $B^{C}$ gives us the set of events that are not in $B$\n",
    "        - Therefore, $A^{C}\\cap B^{C}$ gives us the set of events that **are not elements of $A$ nor $B$\n",
    "        \n",
    "- So, we can see that the two are equal"
   ]
  },
  {
   "cell_type": "markdown",
   "metadata": {},
   "source": [
    "____\n",
    "\n",
    "# 3. The probability measure\n",
    "\n",
    "- A probability measure $P$ assigns a number $P(A)$ to each event $A$\n",
    "    - Intuitively, the measure tells us the likelihood of an event taking place\n",
    "        - This means that it meaures the likelihood that the experiment's outcome, denoted $w$, lies inside of $A$"
   ]
  },
  {
   "cell_type": "markdown",
   "metadata": {},
   "source": [
    "### AXIOMS (cont'd)\n",
    "\n",
    "#### 1.4: \n",
    "\n",
    "$P(\\Omega) = 1$\n",
    "\n",
    "#### 1.5: \n",
    "\n",
    "$0 \\leq P(A) \\leq 1 \\text{  } \\forall A \\in F$\n",
    "\n",
    "#### 1.6\n",
    "\n",
    "- If $A_{1}, A_{2}, ..., A_{n}$ are all disjoint events i.e. no outcome is contained in more than one set, then\n",
    "\n",
    "$P\\left (\\bigcup_{i=1}^{n}A_{i} \\right ) =  \\sum_{i=1}^{n} P(A_{i})$"
   ]
  },
  {
   "cell_type": "markdown",
   "metadata": {},
   "source": [
    "____\n",
    "\n",
    "# 4. Consequences of the axioms\n",
    "\n",
    "#### 1.7\n",
    "\n",
    "##### i. \n",
    "\n",
    "$P(\\emptyset)=0$\n",
    "\n",
    "##### ii. \n",
    "\n",
    "$P(A\\cup B) = P(A) + P(B) - P(A\\cap B)$\n",
    "\n",
    "##### iii. \n",
    "\n",
    "$A \\cap B = \\emptyset \\implies P(A\\cup B) = P(A) + P(B)$\n",
    "\n",
    "##### iv.\n",
    "\n",
    "$P(A^{C}) = 1 - P(A)$\n",
    "\n",
    "##### v. \n",
    "\n",
    "- We define $A $\\ $B = A \\cap B^{C}$ i.e. all the elements in $A$ that are **not** elements of $B$. Then:\n",
    "\n",
    "$ B \\subset A \\implies P(A$ \\ $B) = P(A) - P(B)$"
   ]
  },
  {
   "cell_type": "markdown",
   "metadata": {},
   "source": [
    "- We can use statement iii. to show that for disjoint $A_{1},A_{2},...,A_{n}$:\n",
    "\n",
    "$P(A_{1} \\cup A_{2} \\cup ... \\cup A_{n}) = P(A_{1})+P(A_{2})+...+P(A_{n})$\n",
    "\n",
    "- This property is called *finite additivity*"
   ]
  },
  {
   "cell_type": "markdown",
   "metadata": {},
   "source": [
    "**Partition of $\\Omega$**\n",
    "\n",
    "- If we have events $B_{1}, B_{2},...$ such that:\n",
    "    1. No outcome is contained in more than one $B_{i}$\n",
    "    2. Every outcome in $\\Omega$ is contained in some $B_{j}$\n",
    "    \n",
    "- then we say that the events *partition $\\Omega$*"
   ]
  },
  {
   "cell_type": "markdown",
   "metadata": {},
   "source": [
    "## Theorem 1.8: *Partition Theorem*\n",
    "\n",
    "- Suppose $B_{1}$, $B_{2}$, $B_{3}$,... partition $\\Omega$. Then, for any event $A \\in F$:\n",
    "\n",
    "$$\n",
    "P(A) = \\sum_{i=1}^{\\infty}P(A\\cap B_{i})\n",
    "$$"
   ]
  },
  {
   "cell_type": "markdown",
   "metadata": {},
   "source": [
    "#### Proof:\n",
    "\n",
    "$$\n",
    "A = A \\cap \\Omega = A \\cap \\left ( \\bigcup_{i=1}^{\\infty}B_{i} \\right ) = \\bigcup_{i=1}^{\\infty} \\left ( A \\cap B_{i} \\right ) \\implies P(A) = \\sum_{i=1}^{\\infty}P(A\\cap B_{i})\n",
    "$$"
   ]
  }
 ],
 "metadata": {
  "kernelspec": {
   "display_name": "Python 3",
   "language": "python",
   "name": "python3"
  },
  "language_info": {
   "codemirror_mode": {
    "name": "ipython",
    "version": 3
   },
   "file_extension": ".py",
   "mimetype": "text/x-python",
   "name": "python",
   "nbconvert_exporter": "python",
   "pygments_lexer": "ipython3",
   "version": "3.6.5"
  }
 },
 "nbformat": 4,
 "nbformat_minor": 2
}

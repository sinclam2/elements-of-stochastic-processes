{
 "cells": [
  {
   "cell_type": "markdown",
   "metadata": {},
   "source": [
    "- With the setup of problem 6, suppose I only have 50 dollars to play with\n",
    "    - I pursue the same strategy, wth the following real world modification:\n",
    "        - If I lose 5 games in a row, I can only wager what I have left (50-1-2-4-8-16=19)\n",
    "            - If I lose the 6th game, I'm out of cash and I've lost\n",
    "            \n",
    "- *What is are my expected winnings?*"
   ]
  },
  {
   "cell_type": "markdown",
   "metadata": {},
   "source": [
    "____\n",
    "\n",
    "- We'll simulate this first\n",
    "    - **Note**: there are two ways to think about this problem\n",
    "    \n",
    "### Scenario 1\n",
    "\n",
    "- We keep flipping until **we've won 1 dollar**, or until we're out of cash\n",
    "\n",
    "### Scenario 2\n",
    "\n",
    "- We keep flipping until **we've won 1 game**, or we're out of cash\n",
    "\n",
    "- First, we'll simulate **scenario 1**"
   ]
  },
  {
   "cell_type": "code",
   "execution_count": 1,
   "metadata": {},
   "outputs": [],
   "source": [
    "import numpy as np"
   ]
  },
  {
   "cell_type": "markdown",
   "metadata": {},
   "source": [
    "## Scenario 1"
   ]
  },
  {
   "cell_type": "markdown",
   "metadata": {},
   "source": [
    "- We note that our wager has always been the amount that we're in the hole plus one\n",
    "    - Now, we take it as the minimum of this amount and the amount we still have"
   ]
  },
  {
   "cell_type": "code",
   "execution_count": 24,
   "metadata": {},
   "outputs": [],
   "source": [
    "def sim_scenario_1():\n",
    "    won = False\n",
    "    wager = 1\n",
    "    winnings = 0\n",
    "    list_results = []\n",
    "    \n",
    "    while not won:\n",
    "        flip = np.random.randint(2)\n",
    "        if flip == 1:\n",
    "            winnings += wager\n",
    "        else:\n",
    "            winnings -= wager\n",
    "        list_results.append(winnings)\n",
    "        wager = min(-winnings + 1, 50+winnings)\n",
    "        \n",
    "        if (winnings == 1) or (winnings <= -50):\n",
    "            won = True\n",
    "    return list_results"
   ]
  },
  {
   "cell_type": "code",
   "execution_count": 25,
   "metadata": {
    "scrolled": true
   },
   "outputs": [
    {
     "data": {
      "text/plain": [
       "-0.006281"
      ]
     },
     "execution_count": 25,
     "metadata": {},
     "output_type": "execute_result"
    }
   ],
   "source": [
    "n_trials = 1000000\n",
    "list_trials_results = []\n",
    "\n",
    "for i in range(n_trials):\n",
    "    list_trials_results.append(sim_scenario_1()[-1])\n",
    "    \n",
    "np.mean(list_trials_results)"
   ]
  },
  {
   "cell_type": "markdown",
   "metadata": {},
   "source": [
    "- Looks like it's slightly less than 0"
   ]
  },
  {
   "cell_type": "markdown",
   "metadata": {},
   "source": [
    "___\n",
    "\n",
    "## Scenario 2"
   ]
  },
  {
   "cell_type": "code",
   "execution_count": 34,
   "metadata": {},
   "outputs": [],
   "source": [
    "def sim_scenario_2():\n",
    "    won = False\n",
    "    wager = 1\n",
    "    winnings = 0\n",
    "    list_results = []\n",
    "    \n",
    "    while not won:\n",
    "        flip = np.random.randint(2)\n",
    "        if flip == 1:\n",
    "            winnings += wager\n",
    "            won = True\n",
    "        else:\n",
    "            winnings -= wager\n",
    "        list_results.append(winnings)\n",
    "        wager = min(2*wager, 50+winnings)\n",
    "        \n",
    "        if winnings <= -50:\n",
    "            won = True\n",
    "    return list_results"
   ]
  },
  {
   "cell_type": "code",
   "execution_count": 35,
   "metadata": {},
   "outputs": [
    {
     "data": {
      "text/plain": [
       "-0.009057"
      ]
     },
     "execution_count": 35,
     "metadata": {},
     "output_type": "execute_result"
    }
   ],
   "source": [
    "n_trials = 1000000\n",
    "list_trials_results2 = []\n",
    "\n",
    "for i in range(n_trials):\n",
    "    list_trials_results2.append(sim_scenario_2()[-1])\n",
    "    \n",
    "np.mean(list_trials_results2)"
   ]
  },
  {
   "cell_type": "markdown",
   "metadata": {},
   "source": [
    "- In this scenario, it seems to also be slightly less than 0"
   ]
  },
  {
   "cell_type": "markdown",
   "metadata": {},
   "source": [
    "_____\n",
    "\n",
    "# Non-simulated solution"
   ]
  },
  {
   "cell_type": "markdown",
   "metadata": {},
   "source": [
    "- For simplicity, let's assume we need to solve for Scenario 2\n",
    "\n",
    "- There are only two paths we can take that make us end up with winnings of less than 1:\n",
    "\n",
    "    1. We lose 5 times in a row, then **win**\n",
    "        - winnings = -22\n",
    "    2. We lose 5 times in a row, then **lose again**\n",
    "        - winnings = -50"
   ]
  },
  {
   "cell_type": "markdown",
   "metadata": {},
   "source": [
    "- The probability of either path is $\\frac{1}{2^{6}}$\n",
    "    - Therefore, the probability of neither happening (and so we end up with winnings of 1 dollar) is $1 - 2\\cdot\\frac{1}{2^{6}} = \\frac{31}{32}$"
   ]
  },
  {
   "cell_type": "markdown",
   "metadata": {},
   "source": [
    "- So, we calculate our expected winnings as:\n",
    "\n",
    "$$\n",
    "E(\\text{Winnings}) = (1)\\cdot\\frac{31}{32} + (-22)\\cdot\\frac{1}{64} + (-50)\\cdot\\frac{1}{64} = \\frac{-5}{32}= -0.15625\n",
    "$$"
   ]
  },
  {
   "cell_type": "code",
   "execution_count": 46,
   "metadata": {},
   "outputs": [
    {
     "data": {
      "text/plain": [
       "-0.15625"
      ]
     },
     "execution_count": 46,
     "metadata": {},
     "output_type": "execute_result"
    }
   ],
   "source": [
    "-5/32"
   ]
  },
  {
   "cell_type": "markdown",
   "metadata": {},
   "source": [
    "_____\n",
    "\n",
    "- Simulating this another way"
   ]
  },
  {
   "cell_type": "code",
   "execution_count": 43,
   "metadata": {},
   "outputs": [],
   "source": [
    "def sim_2():\n",
    "    count = 0\n",
    "    won = False\n",
    "    wager = 1\n",
    "    total = 0\n",
    "    while not won:\n",
    "        count += 1\n",
    "        flip = np.random.randint(2)\n",
    "        if count == 6:\n",
    "            wager = 19\n",
    "            if flip == 1:\n",
    "                return -22\n",
    "            else:\n",
    "                return -50\n",
    "        \n",
    "        if flip == 1:\n",
    "            total += wager\n",
    "            won = True\n",
    "        else:\n",
    "            total -= wager\n",
    "            wager *= 2\n",
    "    return total"
   ]
  },
  {
   "cell_type": "code",
   "execution_count": 45,
   "metadata": {},
   "outputs": [
    {
     "data": {
      "text/plain": [
       "-0.156623"
      ]
     },
     "execution_count": 45,
     "metadata": {},
     "output_type": "execute_result"
    }
   ],
   "source": [
    "list_results = []\n",
    "for i in range(1000000):\n",
    "    list_results.append(sim_2())\n",
    "np.mean(list_results)"
   ]
  },
  {
   "cell_type": "markdown",
   "metadata": {},
   "source": [
    "- This is a much closer approximation\n",
    "    - **Something must be wrong in my code above, but I'll get around to fixing it later**"
   ]
  }
 ],
 "metadata": {
  "kernelspec": {
   "display_name": "Python 3",
   "language": "python",
   "name": "python3"
  },
  "language_info": {
   "codemirror_mode": {
    "name": "ipython",
    "version": 3
   },
   "file_extension": ".py",
   "mimetype": "text/x-python",
   "name": "python",
   "nbconvert_exporter": "python",
   "pygments_lexer": "ipython3",
   "version": "3.6.5"
  }
 },
 "nbformat": 4,
 "nbformat_minor": 2
}

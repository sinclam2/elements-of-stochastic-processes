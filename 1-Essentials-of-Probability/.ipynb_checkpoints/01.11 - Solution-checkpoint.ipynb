{
 "cells": [
  {
   "cell_type": "markdown",
   "metadata": {},
   "source": [
    "# Suppose $A$, $B$, and $C$ are events with $P(A)=0.42$, $P(B)=0.45$, and $P(C)=0.35$,$P(A \\cup B) = 0.75$, $P(A \\cap B \\cap C) = 0.07$"
   ]
  },
  {
   "cell_type": "markdown",
   "metadata": {},
   "source": [
    "# Calculate (where possible) the following probabilities:\n",
    "\n",
    "## a. $P(A^{C})$\n",
    "\n",
    "## b. $P(A\\cap B)$\n",
    "\n",
    "## c. $P(A \\cap B \\cap C^{C})$\n",
    "\n",
    "## d. $P(A\\cup B \\cup C)$"
   ]
  },
  {
   "cell_type": "markdown",
   "metadata": {},
   "source": [
    "____\n",
    "\n",
    "# a.\n",
    "\n",
    "$$\n",
    "P(A) = 0.42 \\implies P(A^{C}) = 1-P(A) = 1-0.42 = 0.58\n",
    "$$"
   ]
  },
  {
   "cell_type": "markdown",
   "metadata": {},
   "source": [
    "____\n",
    "\n",
    "# b. \n",
    "\n",
    "$$\n",
    "P(A\\cup B) = P(A) + P(B) - P(A\\cap B) \\implies P(A\\cap B) = P(A) + P(B) - P(A \\cup B) = 0.42 + 0.45 - 0.75 = 0.12\n",
    "$$"
   ]
  },
  {
   "cell_type": "markdown",
   "metadata": {},
   "source": [
    "___\n",
    "\n",
    "# c. \n",
    "\n",
    "$$\n",
    "P(A \\cap B \\cap C^{C}) = P(A \\cap B) - P(A\\cap B\\cap C) = 0.12-0.07 = 0.05\n",
    "$$"
   ]
  },
  {
   "cell_type": "markdown",
   "metadata": {},
   "source": [
    "____\n",
    "\n",
    "# d. \n",
    "\n",
    "- Insufficient info"
   ]
  },
  {
   "cell_type": "code",
   "execution_count": null,
   "metadata": {},
   "outputs": [],
   "source": []
  }
 ],
 "metadata": {
  "kernelspec": {
   "display_name": "Python 3",
   "language": "python",
   "name": "python3"
  },
  "language_info": {
   "codemirror_mode": {
    "name": "ipython",
    "version": 3
   },
   "file_extension": ".py",
   "mimetype": "text/x-python",
   "name": "python",
   "nbconvert_exporter": "python",
   "pygments_lexer": "ipython3",
   "version": "3.6.5"
  }
 },
 "nbformat": 4,
 "nbformat_minor": 2
}

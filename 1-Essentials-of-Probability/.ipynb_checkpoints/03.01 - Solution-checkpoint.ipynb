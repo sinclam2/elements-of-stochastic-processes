{
 "cells": [
  {
   "cell_type": "markdown",
   "metadata": {},
   "source": [
    "- Suppose $Var(X)=3$, $Var(Y)=4$, $Var(Z)=5$ and $Cov(X,Y) = 1$, $Cov(X,Z) = 2$, $Cov(Y,Z) = 5$\n",
    "\n",
    "a. Calculate $Cov(3X, Y + 2Z)$\n",
    "\n",
    "b. Calculate $Var(Y+2Z)$"
   ]
  },
  {
   "cell_type": "markdown",
   "metadata": {},
   "source": [
    "____\n",
    "\n",
    "# a.\n",
    "\n",
    "$$\n",
    "Cov(3X, Y+2Z) = Cov(3X, Y) + Cov(3X, 2Z) = 3Cov(X,Y) + 6Cov(X,Z) = 3\\cdot1 + 6\\cdot2 = 15\n",
    "$$"
   ]
  },
  {
   "cell_type": "markdown",
   "metadata": {},
   "source": [
    "___\n",
    "\n",
    "# b. \n",
    "\n",
    "$$\n",
    "Var(Y+2Z) = Cov(Y+2Z, Y+2Z) = Cov(Y,Y) + 4Cov(Y,Z) + 4Cov(Z,Z) = Var(Y) + 4Cov(Y,Z) + 4Var(Z) = 4 + 4\\cdot5 + 4\\cdot5 = 44\n",
    "$$"
   ]
  }
 ],
 "metadata": {
  "kernelspec": {
   "display_name": "Python 3",
   "language": "python",
   "name": "python3"
  },
  "language_info": {
   "codemirror_mode": {
    "name": "ipython",
    "version": 3
   },
   "file_extension": ".py",
   "mimetype": "text/x-python",
   "name": "python",
   "nbconvert_exporter": "python",
   "pygments_lexer": "ipython3",
   "version": "3.6.5"
  }
 },
 "nbformat": 4,
 "nbformat_minor": 2
}

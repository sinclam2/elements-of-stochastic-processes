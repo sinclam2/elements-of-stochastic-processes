{
 "cells": [
  {
   "cell_type": "markdown",
   "metadata": {},
   "source": [
    "Continuous $X$ and $Y$ have the joint density function:\n",
    "\n",
    "$$\n",
    "f(x,y)=\\left\\{\\begin{matrix}24xy & \\text{for }0<x\\text{ and }0<y\\text{ and } x+y < 1\\\\ 0 & \\text{otherwise}\\end{matrix}\\right.\n",
    "$$"
   ]
  },
  {
   "cell_type": "markdown",
   "metadata": {},
   "source": [
    "Compute the marginal density functions for $X$ and $Y$"
   ]
  },
  {
   "cell_type": "markdown",
   "metadata": {},
   "source": [
    "_____\n",
    "\n",
    "- First, let's consider the range of $X$\n",
    "    - We know that $x$ is greater than zero\n",
    "    - We also know that $x+y < 1 \\implies x < 1-y$\n",
    "        - Therefore, the range of $X$ is $[0,1-y]$\n",
    "- If we repeat the process for $Y$, we get $Range(Y)=[0,1-x]$\n",
    "\n",
    "$$\n",
    "f_{X}(x) = \\int_{-\\infty}^{\\infty}f(x,y)dy = \\int_{0}^{1-x}24xydy = 12y(1-x)^{2}\n",
    "$$\n",
    "\n",
    "$$\n",
    "f_{Y}(y) = \\int_{-\\infty}^{\\infty}f(x,y)dy = \\int_{0}^{1-y}24xydx = 12x(1-y)^{2}\n",
    "$$"
   ]
  }
 ],
 "metadata": {
  "kernelspec": {
   "display_name": "Python 3",
   "language": "python",
   "name": "python3"
  },
  "language_info": {
   "codemirror_mode": {
    "name": "ipython",
    "version": 3
   },
   "file_extension": ".py",
   "mimetype": "text/x-python",
   "name": "python",
   "nbconvert_exporter": "python",
   "pygments_lexer": "ipython3",
   "version": "3.6.8"
  }
 },
 "nbformat": 4,
 "nbformat_minor": 2
}

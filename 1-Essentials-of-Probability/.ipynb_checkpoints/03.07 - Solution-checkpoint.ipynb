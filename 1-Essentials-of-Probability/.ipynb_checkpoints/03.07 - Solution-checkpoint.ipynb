{
 "cells": [
  {
   "cell_type": "markdown",
   "metadata": {},
   "source": [
    "- Suppose $X$ and $Y$ are exponential random variables with means $\\mu_{X}$ and $\\mu_{Y}$ respectively\n",
    "- Show that $\\rho(X,Y)=-1$ is not possible "
   ]
  },
  {
   "cell_type": "markdown",
   "metadata": {},
   "source": [
    "_____\n",
    "\n",
    "- **Recall**: if $X$ is an exponential random variable with mean $\\mu_{X}$, then the pdf of $X$ is given by:\n",
    "\n",
    "$$\n",
    "f(x) = \\frac{1}{\\mu_{X}}e^{-x/\\mu_{X}}\n",
    "$$"
   ]
  },
  {
   "cell_type": "markdown",
   "metadata": {},
   "source": [
    "- Therefore, if $X$ and $Y$ are both exponential random variables, then:\n",
    "\n",
    "$$\n",
    "Cov(X,Y) = \\frac{1}{\\mu_{X}}\\frac{1}{\\mu_{Y}}\\int_{0}^{\\infty}\\int_{0}^{\\infty}(e^{-x/\\mu_{X}}-\\mu_{X})(e^{-y/\\mu_{Y}}-\\mu_{Y})dxdy\n",
    "$$"
   ]
  },
  {
   "cell_type": "markdown",
   "metadata": {},
   "source": [
    "- This problem seems complicated, but has a solution here: https://stats.stackexchange.com/questions/66775/attainable-correlations-for-exponential-random-variables"
   ]
  }
 ],
 "metadata": {
  "kernelspec": {
   "display_name": "Python 3",
   "language": "python",
   "name": "python3"
  },
  "language_info": {
   "codemirror_mode": {
    "name": "ipython",
    "version": 3
   },
   "file_extension": ".py",
   "mimetype": "text/x-python",
   "name": "python",
   "nbconvert_exporter": "python",
   "pygments_lexer": "ipython3",
   "version": "3.6.8"
  }
 },
 "nbformat": 4,
 "nbformat_minor": 2
}

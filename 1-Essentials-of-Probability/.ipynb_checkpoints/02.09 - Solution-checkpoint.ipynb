{
 "cells": [
  {
   "cell_type": "markdown",
   "metadata": {},
   "source": [
    "- A 52 card poker deck has 12 \"face\" cards:\n",
    "    - 4 kings\n",
    "    - 4 queens\n",
    "    - 4 jacks\n",
    "- Suppose I deal out 10 cards from a well shuffled deck\n",
    "\n",
    "a. *What is the probability that the 5th card dealt is a face card?*\n",
    "\n",
    "b. *Let $N$ denote the number of face cards appearing among the 10 cards dealt. What is $E(N)$?*"
   ]
  },
  {
   "cell_type": "markdown",
   "metadata": {},
   "source": [
    "_____\n",
    "\n",
    "# a.\n",
    "\n",
    "- This problem is deceiving because we think that we need to consider all the possible paths where the 5th card is a face card\n",
    "    - Instead, we should think of it this way: we take 10 cards from the deck and lay them face down on the table. We go to the 5th card and flip it over. What is the probability of it being a face card.\n",
    "        - So, since we have no prior information about the other cards, this is essentially the same as asking what's the probability of drawing a random card from the deck and it's a face card\n",
    "        \n",
    "$$\n",
    "P(\\text{10th card is a face card}) = \\frac{12}{52} = \\frac{3}{13}\n",
    "$$"
   ]
  },
  {
   "cell_type": "markdown",
   "metadata": {},
   "source": [
    "- We can simulate this to confirm our answer"
   ]
  },
  {
   "cell_type": "code",
   "execution_count": 3,
   "metadata": {},
   "outputs": [],
   "source": [
    "import numpy as np"
   ]
  },
  {
   "cell_type": "code",
   "execution_count": 6,
   "metadata": {},
   "outputs": [],
   "source": [
    "array_deck = np.concatenate([np.repeat(np.arange(1, 11), 4), np.repeat(['J','Q','K'], 4)])"
   ]
  },
  {
   "cell_type": "code",
   "execution_count": 8,
   "metadata": {},
   "outputs": [
    {
     "data": {
      "text/plain": [
       "0.23187"
      ]
     },
     "execution_count": 8,
     "metadata": {},
     "output_type": "execute_result"
    }
   ],
   "source": [
    "n_trials = 100000\n",
    "count = 0\n",
    "\n",
    "for trial in range(n_trials):\n",
    "    ten_random_cards = np.random.choice(array_deck, size=10, replace = False)\n",
    "    tenth_card = ten_random_cards[-1]\n",
    "    if (tenth_card=='J') or (tenth_card=='Q') or (tenth_card=='K'):\n",
    "        count += 1\n",
    "count/n_trials"
   ]
  },
  {
   "cell_type": "code",
   "execution_count": 9,
   "metadata": {},
   "outputs": [
    {
     "data": {
      "text/plain": [
       "0.23076923076923078"
      ]
     },
     "execution_count": 9,
     "metadata": {},
     "output_type": "execute_result"
    }
   ],
   "source": [
    "3/13"
   ]
  },
  {
   "cell_type": "markdown",
   "metadata": {},
   "source": [
    "- Bang on"
   ]
  },
  {
   "cell_type": "markdown",
   "metadata": {},
   "source": [
    "____\n",
    "\n",
    "# b."
   ]
  },
  {
   "cell_type": "markdown",
   "metadata": {},
   "source": [
    "- Let each card being a face card be represented by a random variable $X_{i}$ where $X_{i}=1$ if the $i^{th}$ card is a face card\n",
    "    - Then, let $S_{10} = X_{1} + ... + X_{10}$\n",
    "    \n",
    "- Then, $E(N)=E(S_{10})$\n",
    "    - We know that $E(X+Y) = E(X) + E(Y) \\implies E(N) = E(S_{10}) = E(X_{1})+E(X_{2})+...+E(X_{10})$\n",
    "    \n",
    "- From part a, we know that $E(X_{i}) = \\frac{3}{13} \\implies E(N) = \\frac{3}{13}+...+\\frac{3}{13} = 10 \\cdot \\frac{3}{13} = \\frac{30}{13}$"
   ]
  },
  {
   "cell_type": "markdown",
   "metadata": {},
   "source": [
    "- Let's simulate this again to test it"
   ]
  },
  {
   "cell_type": "code",
   "execution_count": 10,
   "metadata": {},
   "outputs": [],
   "source": [
    "n_trials = 100000\n",
    "list_results = []\n",
    "\n",
    "for trial in range(n_trials):\n",
    "    ten_random_cards = np.random.choice(array_deck, size=10, replace = False)\n",
    "    count = 0\n",
    "    for card in ten_random_cards:\n",
    "        if (card=='J') or (card=='Q') or (card=='K'):\n",
    "            count += 1\n",
    "    list_results.append(count)"
   ]
  },
  {
   "cell_type": "code",
   "execution_count": 11,
   "metadata": {},
   "outputs": [
    {
     "data": {
      "text/plain": [
       "2.30332"
      ]
     },
     "execution_count": 11,
     "metadata": {},
     "output_type": "execute_result"
    }
   ],
   "source": [
    "np.mean(list_results)"
   ]
  },
  {
   "cell_type": "code",
   "execution_count": 12,
   "metadata": {},
   "outputs": [
    {
     "data": {
      "text/plain": [
       "2.3076923076923075"
      ]
     },
     "execution_count": 12,
     "metadata": {},
     "output_type": "execute_result"
    }
   ],
   "source": [
    "30/13"
   ]
  },
  {
   "cell_type": "markdown",
   "metadata": {},
   "source": [
    "- Bang on"
   ]
  }
 ],
 "metadata": {
  "kernelspec": {
   "display_name": "Python 3",
   "language": "python",
   "name": "python3"
  },
  "language_info": {
   "codemirror_mode": {
    "name": "ipython",
    "version": 3
   },
   "file_extension": ".py",
   "mimetype": "text/x-python",
   "name": "python",
   "nbconvert_exporter": "python",
   "pygments_lexer": "ipython3",
   "version": "3.6.5"
  }
 },
 "nbformat": 4,
 "nbformat_minor": 2
}

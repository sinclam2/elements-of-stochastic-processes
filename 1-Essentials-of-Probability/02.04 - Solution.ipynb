{
 "cells": [
  {
   "cell_type": "markdown",
   "metadata": {},
   "source": [
    "- The lifetime of a sound system is exponentially distributed with mean 5 years\n",
    "- The product guarantee will pay a refund of 1000 dollars if the system fails in the first year\n",
    "    - 500 dollars if it fails in the second year\n",
    "        - 300 if it fails in the third year\n",
    "            - Nothing otherwise\n",
    "            \n",
    "- *What is the expected payout under this guarantee?*"
   ]
  },
  {
   "cell_type": "markdown",
   "metadata": {},
   "source": [
    "____\n",
    "\n",
    "- We know an exponential distribution has a pdf of:\n",
    "\n",
    "$$\n",
    "f(x) = \\lambda e^{-\\lambda x}\n",
    "$$\n",
    "\n",
    "- Where $\\lambda = 1\\frac{1}{\\mu}$. Therefore, for the stereo system:\n",
    "\n",
    "$$\n",
    "P(\\text{Stereo lasts at least }t\\text{ years}) = \\int_{0}^{t}\\frac{1}{5}e^{\\frac{-x}{5}}dx\n",
    "$$"
   ]
  },
  {
   "cell_type": "markdown",
   "metadata": {},
   "source": [
    "- So\n",
    "\n",
    "$$\n",
    "E\\left (\\text{Payout} \\right ) = 1000\\int_{0}^{1}\\frac{1}{5}e^{\\frac{-x}{5}}dx + 500\\int_{1}^{2}\\frac{1}{5}e^{\\frac{-x}{5}}dx  + 300\\int_{2}^{3}\\frac{1}{5}e^{\\frac{-x}{5}}dx\n",
    "$$"
   ]
  },
  {
   "cell_type": "markdown",
   "metadata": {},
   "source": [
    "- **Recall:** $\\int_{a}^{b}\\lambda e^{-\\lambda x}dx = e^{-\\lambda a} - e^{-\\lambda b}$"
   ]
  },
  {
   "cell_type": "markdown",
   "metadata": {},
   "source": [
    "- So:\n",
    "\n",
    "$$\n",
    "E(\\text{Payout}) = \\frac{1000}{5}\\left ( 1 - e^{-1/5}\\right ) + \\frac{500}{5} \\left (e^{-1/5} - e^{-2/5} \\right ) + \\frac{300}{5} \\left ( e^{-2/5} - e^{-3/5}\\right )\n",
    "$$"
   ]
  },
  {
   "cell_type": "markdown",
   "metadata": {},
   "source": [
    "$$\n",
    "= 200\\cdot 0.18127 + 100\\cdot 0.14841 + 60\\cdot 0.12151 = 58.37\n",
    "$$"
   ]
  }
 ],
 "metadata": {
  "kernelspec": {
   "display_name": "Python 3",
   "language": "python",
   "name": "python3"
  },
  "language_info": {
   "codemirror_mode": {
    "name": "ipython",
    "version": 3
   },
   "file_extension": ".py",
   "mimetype": "text/x-python",
   "name": "python",
   "nbconvert_exporter": "python",
   "pygments_lexer": "ipython3",
   "version": "3.6.5"
  }
 },
 "nbformat": 4,
 "nbformat_minor": 2
}

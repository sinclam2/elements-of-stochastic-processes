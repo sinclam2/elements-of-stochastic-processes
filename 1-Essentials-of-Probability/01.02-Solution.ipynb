{
 "cells": [
  {
   "cell_type": "markdown",
   "metadata": {},
   "source": [
    "# Prove DeMorgan's laws\n",
    "\n",
    "## a. $\\left ( \\bigcup_{i=1}^{\\infty} A_{i} \\right )^{C} = \\bigcap_{i=1}^{\\infty}A_{i}^{C}$\n",
    "\n",
    "## b. $\\left ( \\bigcap_{i=1}^{\\infty} A_{i} \\right )^{C} = \\bigcup_{i=1}^{\\infty}A_{i}^{C}$"
   ]
  },
  {
   "cell_type": "markdown",
   "metadata": {},
   "source": [
    "___\n",
    "\n",
    "# a. \n",
    "\n",
    "$$\n",
    "a \\in \\left ( \\bigcup_{i=1}^{\\infty} A_{i} \\right )^{C} \\implies a \\notin A_{i} \\forall i \\geq 1 \n",
    "\\implies a \\in A^{C}_{i} \\forall i \\geq 1 \\implies a \\in \\bigcap_{i=1}^{\\infty} A_{i}^{C}\n",
    "$$"
   ]
  },
  {
   "cell_type": "markdown",
   "metadata": {},
   "source": [
    "- This means that every $a$ in $\\left( \\bigcup_{i=1}^{\\infty} A_{i} \\right )^{C}$ must also be in $\\bigcap_{i=1}^{\\infty} A_{i}^{C}$ i.e.:\n",
    "\n",
    "$$\n",
    "\\left( \\bigcup_{i=1}^{\\infty} A_{i} \\right )^{C} \\subseteq \\bigcap_{i=1}^{\\infty} A_{i}^{C}\n",
    "$$"
   ]
  },
  {
   "cell_type": "markdown",
   "metadata": {},
   "source": [
    "- We can follow the exact same process in reverse to show that \n",
    "\n",
    "$$\n",
    "\\left( \\bigcup_{i=1}^{\\infty} A_{i} \\right )^{C} \\supseteq \\bigcap_{i=1}^{\\infty} A_{i}^{C}\n",
    "$$"
   ]
  },
  {
   "cell_type": "markdown",
   "metadata": {},
   "source": [
    "____\n",
    "\n",
    "# b. \n",
    "\n",
    "$$\n",
    "a \\in \\left ( \\bigcap_{i=1}^{\\infty} A_{i} \\right )^{C} \\implies \\exists j\\geq 1 \\text{ s.t. } a\\notin A_{j} \\implies \\exists j\\geq 1 \\text{ s.t. } a\\in A_{j}^{C} \\implies a \\in \\bigcup^{\\infty}_{i=0}A_{i}^{C}\n",
    "$$"
   ]
  },
  {
   "cell_type": "markdown",
   "metadata": {},
   "source": [
    "$$\n",
    "\\therefore \\left( \\bigcap_{i=1}^{\\infty} A_{i} \\right )^{C} \\subseteq \\bigcup^{\\infty}_{i=0}A_{i}^{C}\n",
    "$$"
   ]
  },
  {
   "cell_type": "markdown",
   "metadata": {},
   "source": [
    "- We can show this in the opposite direction"
   ]
  }
 ],
 "metadata": {
  "kernelspec": {
   "display_name": "Python 3",
   "language": "python",
   "name": "python3"
  },
  "language_info": {
   "codemirror_mode": {
    "name": "ipython",
    "version": 3
   },
   "file_extension": ".py",
   "mimetype": "text/x-python",
   "name": "python",
   "nbconvert_exporter": "python",
   "pygments_lexer": "ipython3",
   "version": "3.6.5"
  }
 },
 "nbformat": 4,
 "nbformat_minor": 2
}

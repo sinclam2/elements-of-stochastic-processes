{
 "cells": [
  {
   "cell_type": "markdown",
   "metadata": {},
   "source": [
    "- How large must $\\rho_{UV}$ be before your entire investment would be in $U$?"
   ]
  },
  {
   "cell_type": "markdown",
   "metadata": {},
   "source": [
    "_____\n",
    "\n",
    "- First, we'll loop through different scenarios and plot them"
   ]
  },
  {
   "cell_type": "code",
   "execution_count": 1,
   "metadata": {},
   "outputs": [],
   "source": [
    "import numpy as np\n",
    "import matplotlib.pyplot as plt\n",
    "%matplotlib inline"
   ]
  },
  {
   "cell_type": "code",
   "execution_count": 2,
   "metadata": {},
   "outputs": [],
   "source": [
    "plt.rcParams['figure.figsize'] = 10, 10"
   ]
  },
  {
   "cell_type": "code",
   "execution_count": 3,
   "metadata": {},
   "outputs": [],
   "source": [
    "step = 0.01\n",
    "x = np.arange(0, 1000+step, step)\n",
    "corr = np.arange(0,1+step, step)\n",
    "\n",
    "list_results = []\n",
    "\n",
    "for i, rho in enumerate(corr):\n",
    "    covariance = rho*np.sqrt(0.15*0.2)\n",
    "    variances = 0.15*x**2 - 2*x*(1000-x)*covariance + 0.2*(1000-x)**2\n",
    "    min_x = x[np.argmin(variances)]\n",
    "    list_results.append((rho, min_x))"
   ]
  },
  {
   "cell_type": "code",
   "execution_count": 5,
   "metadata": {},
   "outputs": [
    {
     "data": {
      "text/plain": [
       "[(0.0, 571.4300000000001),\n",
       " (0.01, 570.73),\n",
       " (0.02, 570.04),\n",
       " (0.03, 569.37),\n",
       " (0.04, 568.71),\n",
       " (0.05, 568.0600000000001),\n",
       " (0.06, 567.42),\n",
       " (0.07, 566.8000000000001),\n",
       " (0.08, 566.19),\n",
       " (0.09, 565.59),\n",
       " (0.1, 565.0),\n",
       " (0.11, 564.42),\n",
       " (0.12, 563.85),\n",
       " (0.13, 563.29),\n",
       " (0.14, 562.74),\n",
       " (0.15, 562.2),\n",
       " (0.16, 561.66),\n",
       " (0.17, 561.14),\n",
       " (0.18, 560.63),\n",
       " (0.19, 560.12),\n",
       " (0.2, 559.63),\n",
       " (0.21, 559.14),\n",
       " (0.22, 558.66),\n",
       " (0.23, 558.1800000000001),\n",
       " (0.24, 557.72),\n",
       " (0.25, 557.26),\n",
       " (0.26, 556.8100000000001),\n",
       " (0.27, 556.37),\n",
       " (0.28, 555.9300000000001),\n",
       " (0.29, 555.5),\n",
       " (0.3, 555.08),\n",
       " (0.31, 554.66),\n",
       " (0.32, 554.25),\n",
       " (0.33, 553.84),\n",
       " (0.34, 553.44),\n",
       " (0.35000000000000003, 553.0500000000001),\n",
       " (0.36, 552.66),\n",
       " (0.37, 552.28),\n",
       " (0.38, 551.91),\n",
       " (0.39, 551.54),\n",
       " (0.4, 551.17),\n",
       " (0.41000000000000003, 550.8100000000001),\n",
       " (0.42, 550.45),\n",
       " (0.43, 550.1),\n",
       " (0.44, 549.76),\n",
       " (0.45, 549.42),\n",
       " (0.46, 549.08),\n",
       " (0.47000000000000003, 548.75),\n",
       " (0.48, 548.42),\n",
       " (0.49, 548.1),\n",
       " (0.5, 547.78),\n",
       " (0.51, 547.47),\n",
       " (0.52, 547.16),\n",
       " (0.53, 546.85),\n",
       " (0.54, 546.5500000000001),\n",
       " (0.55, 546.25),\n",
       " (0.56, 545.96),\n",
       " (0.5700000000000001, 545.67),\n",
       " (0.58, 545.38),\n",
       " (0.59, 545.1),\n",
       " (0.6, 544.82),\n",
       " (0.61, 544.54),\n",
       " (0.62, 544.27),\n",
       " (0.63, 544.0),\n",
       " (0.64, 543.73),\n",
       " (0.65, 543.47),\n",
       " (0.66, 543.21),\n",
       " (0.67, 542.95),\n",
       " (0.68, 542.69),\n",
       " (0.6900000000000001, 542.44),\n",
       " (0.7000000000000001, 542.2),\n",
       " (0.71, 541.95),\n",
       " (0.72, 541.71),\n",
       " (0.73, 541.47),\n",
       " (0.74, 541.23),\n",
       " (0.75, 541.0),\n",
       " (0.76, 540.76),\n",
       " (0.77, 540.54),\n",
       " (0.78, 540.3100000000001),\n",
       " (0.79, 540.09),\n",
       " (0.8, 539.86),\n",
       " (0.81, 539.65),\n",
       " (0.8200000000000001, 539.4300000000001),\n",
       " (0.8300000000000001, 539.21),\n",
       " (0.84, 539.0),\n",
       " (0.85, 538.79),\n",
       " (0.86, 538.59),\n",
       " (0.87, 538.38),\n",
       " (0.88, 538.1800000000001),\n",
       " (0.89, 537.98),\n",
       " (0.9, 537.78),\n",
       " (0.91, 537.58),\n",
       " (0.92, 537.39),\n",
       " (0.93, 537.19),\n",
       " (0.9400000000000001, 537.0),\n",
       " (0.9500000000000001, 536.8100000000001),\n",
       " (0.96, 536.63),\n",
       " (0.97, 536.44),\n",
       " (0.98, 536.26),\n",
       " (0.99, 536.08),\n",
       " (1.0, 535.9)]"
      ]
     },
     "execution_count": 5,
     "metadata": {},
     "output_type": "execute_result"
    }
   ],
   "source": [
    "list_results"
   ]
  },
  {
   "cell_type": "code",
   "execution_count": 4,
   "metadata": {},
   "outputs": [
    {
     "data": {
      "text/plain": [
       "[<matplotlib.lines.Line2D at 0x2376f4f62b0>,\n",
       " <matplotlib.lines.Line2D at 0x2376f4f64a8>]"
      ]
     },
     "execution_count": 4,
     "metadata": {},
     "output_type": "execute_result"
    },
    {
     "data": {
      "image/png": "[encoded data removed]",
      "text/plain": [
       "<Figure size 720x720 with 1 Axes>"
      ]
     },
     "metadata": {},
     "output_type": "display_data"
    }
   ],
   "source": [
    "plt.plot(list_results)"
   ]
  }
 ],
 "metadata": {
  "kernelspec": {
   "display_name": "Python 3",
   "language": "python",
   "name": "python3"
  },
  "language_info": {
   "codemirror_mode": {
    "name": "ipython",
    "version": 3
   },
   "file_extension": ".py",
   "mimetype": "text/x-python",
   "name": "python",
   "nbconvert_exporter": "python",
   "pygments_lexer": "ipython3",
   "version": "3.6.5"
  }
 },
 "nbformat": 4,
 "nbformat_minor": 2
}

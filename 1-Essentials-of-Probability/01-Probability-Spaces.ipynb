{
 "cells": [
  {
   "cell_type": "markdown",
   "metadata": {},
   "source": [
    "# Probability theory is the mathematical modeling of real-world experiments that have unpredictable outcomes\n",
    "\n",
    "# The mathematical model corresponding to any experiment consists of\n",
    "\n",
    "### 1. the *outcome space* $\\Omega$\n",
    "\n",
    "### 2. the collection of *events* $F$\n",
    "\n",
    "### 3. the *probability measure* $P$\n",
    "\n",
    "# Combining the three ($\\Omega, F, P$), we have a *probability space*"
   ]
  },
  {
   "cell_type": "markdown",
   "metadata": {},
   "source": [
    "_____\n",
    "\n",
    "# 1. The outcome space\n",
    "\n",
    "- aka the *sample space*\n",
    "- consists of all possible outcomes of the experiment\n",
    "\n",
    "**Example**\n",
    "\n",
    "- if our experiment is rolling a die, then the outomes are:\n",
    "\n",
    "$\\Omega = \\{1,2,3,4,5,6\\}$\n",
    "\n",
    "- **Note**: a generic outcome is typically denoted $w$"
   ]
  },
  {
   "cell_type": "markdown",
   "metadata": {},
   "source": [
    "_____\n",
    "\n",
    "# 2. The collection of events\n",
    "\n",
    "- a subset of the outcome space\n",
    "\n",
    "**Example**\n",
    "\n",
    "$\\{2,4,6\\}$ represents the even rolls of the die\n",
    "\n",
    "\n",
    "- If $A \\subset \\Omega$ is an event and the result of our experiment is contained in $A$, we say that *$A$ has occurred*\n",
    "\n",
    "- $F$ denotes all possible subsets of $\\Omega$"
   ]
  }
 ],
 "metadata": {
  "kernelspec": {
   "display_name": "Python 3",
   "language": "python",
   "name": "python3"
  },
  "language_info": {
   "codemirror_mode": {
    "name": "ipython",
    "version": 3
   },
   "file_extension": ".py",
   "mimetype": "text/x-python",
   "name": "python",
   "nbconvert_exporter": "python",
   "pygments_lexer": "ipython3",
   "version": "3.6.5"
  }
 },
 "nbformat": 4,
 "nbformat_minor": 2
}

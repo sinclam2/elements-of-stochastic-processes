{
 "cells": [
  {
   "cell_type": "markdown",
   "metadata": {},
   "source": [
    "Continuous $X$ and $Y$ have the joint density function:\n",
    "\n",
    "$$\n",
    "f(x,y)=\\left\\{\\begin{matrix}1/y & \\text{for }0<x<y\\text{ and }0<y<1\\\\ 0 & \\text{otherwise}\\end{matrix}\\right.\n",
    "$$"
   ]
  },
  {
   "cell_type": "markdown",
   "metadata": {},
   "source": [
    "a) Compute the marginal density functions of $X$ and $Y$"
   ]
  },
  {
   "cell_type": "markdown",
   "metadata": {},
   "source": [
    "b)Calculate $P(Y>2X)$"
   ]
  },
  {
   "cell_type": "markdown",
   "metadata": {},
   "source": [
    "____\n",
    "\n",
    "# a) \n",
    "\n",
    "- We know that the range of $X$ is $[0,y]$\n",
    "\n",
    "- Therefore, even though it says $0<y<1$, the range above requires that the range of $Y$ be $[x,1]$"
   ]
  },
  {
   "cell_type": "markdown",
   "metadata": {},
   "source": [
    "- We use these ranges to solve for $f_{X}(x)$ and $f_{Y}(y)$:\n",
    "\n",
    "$$\n",
    "f_{X}(x) = \\int_{x}^{1}\\frac{1}{y}dy = \\ln(1) - \\ln(x) = -\\ln(x)\n",
    "$$"
   ]
  },
  {
   "cell_type": "markdown",
   "metadata": {},
   "source": [
    "$$\n",
    "f_{Y}(y) = \\int_{0}^{y}\\frac{1}{y}dx = (x/y)|^{y}_{0} = (y/y)-0 = 1\n",
    "$$"
   ]
  }
 ],
 "metadata": {
  "kernelspec": {
   "display_name": "Python 3",
   "language": "python",
   "name": "python3"
  },
  "language_info": {
   "codemirror_mode": {
    "name": "ipython",
    "version": 3
   },
   "file_extension": ".py",
   "mimetype": "text/x-python",
   "name": "python",
   "nbconvert_exporter": "python",
   "pygments_lexer": "ipython3",
   "version": "3.6.8"
  }
 },
 "nbformat": 4,
 "nbformat_minor": 2
}

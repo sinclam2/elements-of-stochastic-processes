{
 "cells": [
  {
   "cell_type": "markdown",
   "metadata": {},
   "source": [
    "- Anna has an infinite supply of marbles numbered 1, 2, 3, ...\n",
    "- Anna places the marbles two at a time, in numerical order, into an urb\n",
    "    - i.e. places marble 1 and 2, then 3 and 4, and so on and so forth\n",
    "- Each time Anna puts two marbles into the urn, Louis reaches in and pulls a marble out (not necessarily one of the two just put in)\n",
    "- This process goes on forever\n",
    "- We'll call each occurrence of putting in two marbles and taking one out a *step*\n",
    "    - So after $n$ steps, there are $n$ marbles in the urn\n",
    "    \n",
    "a) If Louis always removes the marble with the lowest number, which marbles will remain in the urn forever?\n",
    "\n",
    "b) If Louis always removes the marble with the highest number, which marbles will remain in the urn forever?\n",
    "\n",
    "- Now suppose Louis always removes marbles randomly, with each marble in the urn equally likely to be removed\n",
    "\n",
    "c) With what probability will marble 1 be in the urn after $n$ steps?\n",
    "\n",
    "d) With what probability will a particular marble of the two placed in the urn at step $m$ still be in the urn after step $n$ where $m\\leq n$?\n",
    "\n",
    "e) With what probability will any marble ever be placed in the urn remain there forever?"
   ]
  },
  {
   "cell_type": "markdown",
   "metadata": {},
   "source": [
    "_______\n",
    "\n",
    "# a)\n",
    "\n",
    "Step 1: Add 1 and 2, remove 1\n",
    "\n",
    "Step 2: Already have 2, add 3 and 4, remove 2\n",
    "\n",
    "Step 3: Already have 3 and 4, add 5 and 6, remove 3\n",
    "\n",
    "Step 4: Already have 4, 5 and 6, add 7 and 8, remove 4\n",
    "\n",
    "Step 5: [5,6,7,8]+[9,10]-[5] = [6,7,8,9,10]"
   ]
  },
  {
   "cell_type": "markdown",
   "metadata": {},
   "source": [
    "- As we can see, after $n$ steps, only the last $n/2$ marbles remain\n",
    "    - So, in another $n$ steps, these $n/2$ marbles will be gone\n",
    "        - Therefore, whatever marbles remain after $n$ steps will be gone after $2n$ steps\n",
    "        \n",
    "- **None will remain in the urn forever**"
   ]
  },
  {
   "cell_type": "markdown",
   "metadata": {},
   "source": [
    "_____\n",
    "\n",
    "# b)\n",
    "\n",
    "Step 1: [1,2]-[2]=[1]\n",
    "\n",
    "Step 2: [1]+[3,4]-[4]=[1,3]\n",
    "\n",
    "Step 3: [1,3]+[5,6]-[6]=[1,3,5]\n",
    "\n",
    "Step 4: [1,3,5]+[7,8]-[8]=[1,3,5,7]\n",
    "\n",
    "Step 5: [1,3,5,7]+[9,10]-[10]=[1,3,5,7,9]\n",
    "\n",
    "- As we can see, after $n$ steps, the remaining marbles in the urn are $\\{2k+1\\text{ for }0\\leq k \\leq \\frac{n}{2} \\}$\n",
    "    - These will stay there forever"
   ]
  },
  {
   "cell_type": "markdown",
   "metadata": {},
   "source": [
    "_______\n",
    "\n",
    "# c)\n",
    "\n",
    "- In step 1, there's a 1/2 chance of 1 being removed $\\implies P(R_{1}) = 1/2$\n",
    "\n",
    "- In step 2, if 1 hasn't been removed, there's a 1/3 chance of it being removed $\\implies P(R_{2} | R_{1}^{C}) = 1/3$\n",
    "\n",
    "- If it's still in the urn in step 3: $P(R_{3} | R_{1}^{C}\\cap R_{2}^{C}) = 1/4$\n",
    "\n",
    "- If it's still in the urn in step $n$: $P(R_{n} | R_{1}^{C}\\cap R_{2}^{C}\\cap...\\cap R_{n-1}^{C}) = \\frac{1}{n-1}$"
   ]
  },
  {
   "cell_type": "markdown",
   "metadata": {},
   "source": [
    "- So, to calulate the probability of marble 1 being removed within 2 steps:\n",
    "\n",
    "$$\n",
    "P(\\text{Taken out of urn after 2 steps}) = P(R_{1}) + P(R_{1}^{C})\\cdot P(R_{2} | R_{1}^{C}) = \\frac{1}{2} + \\frac{1}{2}\\cdot\\frac{1}{3}\n",
    "$$"
   ]
  },
  {
   "cell_type": "markdown",
   "metadata": {},
   "source": [
    "$$\n",
    "P(\\text{Taken out of urn after 3 steps}) = P(R_{1}) + P(R_{1}^{C})\\cdot P(R_{2} | R_{1}^{C}) + P(R_{1}^{C})\\cdot P(R_{2} | R_{1}^{C}) + P(R_{1}^{C}\\cap R_{2}^{C})\\cdot P(R_{3} | R_{1}^{C}\\cap R_{2}^{C})\\\\ = \\frac{1}{2} + \\frac{1}{2}\\cdot\\frac{1}{3} + \\frac{1}{2}\\cdot\\frac{2}{3}\\cdot\\frac{1}{4} = \\frac{1}{2} + \\frac{1}{2}\\cdot\\frac{1}{3}+\\frac{1}{3}\\cdot\\frac{1}{4}\n",
    "$$"
   ]
  },
  {
   "cell_type": "markdown",
   "metadata": {},
   "source": [
    "- From this, we can generalize:\n",
    "\n",
    "$$\n",
    "P(\\text{Taken out of urn after }n\\text{ steps}) = \\frac{1}{2}+\\frac{1}{2}\\frac{1}{3}+\\frac{1}{3}\\frac{1}{4} + ... +\\frac{1}{n}\\frac{1}{n+1}\n",
    "$$\n",
    "\n",
    "- **Note**: it would have been easier to do this the other way around, but the outcome is the same:\n",
    "\n",
    "$$\n",
    "P(\\text{NOT taken out of urn after }n\\text{ steps}) = 1-P(\\text{Taken out of urn after 3 steps}) = \\frac{1}{n+1}\n",
    "$$"
   ]
  },
  {
   "cell_type": "markdown",
   "metadata": {},
   "source": [
    "_____\n",
    "\n",
    "# d)\n",
    "\n",
    "- At the beginning of step $m$, there are $m-1$ marbles in the urn\n",
    "    - Then, Anna adds two new ones\n",
    "        - Now, there are $m+1$ balls in the urn\n",
    "            - Then, if we pick one of the two new balls in the urn, the probability that Louis immediately removes the ball we chose is $\\frac{1}{m+1}$\n",
    "            \n",
    "- Therefore, the probability that the ball survives is equal to $\\frac{m}{m+1}$\n",
    "    - The probability that the ball survives both the step $m$ and step $m+1$ is $\\frac{m}{m+1}\\cdot\\frac{m+1}{m+2} = \\frac{m}{m+2}$\n",
    "    \n",
    "- We extend this until step $m$:\n",
    "\n",
    "$$\n",
    "P(\\text{Surviving past step } n) = \\frac{m}{n+1}\n",
    "$$"
   ]
  },
  {
   "cell_type": "markdown",
   "metadata": {},
   "source": [
    "____\n",
    "\n",
    "- Let's simulate c) and d):\n",
    "\n",
    "### c)\n",
    "\n",
    "Let's set $n=200 \\implies$ we'd expect the probability to be 1/201"
   ]
  },
  {
   "cell_type": "code",
   "execution_count": 1,
   "metadata": {},
   "outputs": [],
   "source": [
    "import numpy as np"
   ]
  },
  {
   "cell_type": "code",
   "execution_count": 2,
   "metadata": {},
   "outputs": [],
   "source": [
    "n_trials = 10000\n",
    "n = 200\n",
    "count = 0\n",
    "\n",
    "for trial in range(n_trials):\n",
    "    list_numbers = []\n",
    "    for k in range(n):\n",
    "        list_temp = [2*k+1, 2*k+2]\n",
    "        list_numbers += list_temp\n",
    "        random_index = np.random.randint(len(list_numbers))\n",
    "        del list_numbers[random_index]\n",
    "    if 1 in list_numbers:\n",
    "        count += 1"
   ]
  },
  {
   "cell_type": "code",
   "execution_count": 3,
   "metadata": {},
   "outputs": [
    {
     "data": {
      "text/plain": [
       "0.0047"
      ]
     },
     "execution_count": 3,
     "metadata": {},
     "output_type": "execute_result"
    }
   ],
   "source": [
    "count/n_trials"
   ]
  },
  {
   "cell_type": "code",
   "execution_count": 4,
   "metadata": {},
   "outputs": [
    {
     "data": {
      "text/plain": [
       "0.004975124378109453"
      ]
     },
     "execution_count": 4,
     "metadata": {},
     "output_type": "execute_result"
    }
   ],
   "source": [
    "1/(n+1)"
   ]
  },
  {
   "cell_type": "markdown",
   "metadata": {},
   "source": [
    "- Pretty close, for a rough simulation"
   ]
  },
  {
   "cell_type": "markdown",
   "metadata": {},
   "source": [
    "### d)\n",
    "\n",
    "- Let $m=100$ and $n=200$"
   ]
  },
  {
   "cell_type": "code",
   "execution_count": 8,
   "metadata": {},
   "outputs": [],
   "source": [
    "n_trials = 10000\n",
    "n = 200\n",
    "m=100\n",
    "count = 0\n",
    "\n",
    "for trial in range(n_trials):\n",
    "    list_numbers = []\n",
    "    for k in range(n):\n",
    "        list_temp = [2*k+1, 2*k+2]\n",
    "        list_numbers += list_temp\n",
    "        random_index = np.random.randint(len(list_numbers))\n",
    "        del list_numbers[random_index]\n",
    "    if m in list_numbers:\n",
    "        count += 1"
   ]
  },
  {
   "cell_type": "code",
   "execution_count": 9,
   "metadata": {},
   "outputs": [
    {
     "data": {
      "text/plain": [
       "0.2528"
      ]
     },
     "execution_count": 9,
     "metadata": {},
     "output_type": "execute_result"
    }
   ],
   "source": [
    "count/n_trials"
   ]
  },
  {
   "cell_type": "code",
   "execution_count": 10,
   "metadata": {},
   "outputs": [
    {
     "data": {
      "text/plain": [
       "0.4975124378109453"
      ]
     },
     "execution_count": 10,
     "metadata": {},
     "output_type": "execute_result"
    }
   ],
   "source": [
    "m/(n+1)"
   ]
  },
  {
   "cell_type": "markdown",
   "metadata": {},
   "source": [
    "- Something is up with this one\n",
    "    - Will fix it later"
   ]
  }
 ],
 "metadata": {
  "kernelspec": {
   "display_name": "Python 3",
   "language": "python",
   "name": "python3"
  },
  "language_info": {
   "codemirror_mode": {
    "name": "ipython",
    "version": 3
   },
   "file_extension": ".py",
   "mimetype": "text/x-python",
   "name": "python",
   "nbconvert_exporter": "python",
   "pygments_lexer": "ipython3",
   "version": "3.6.5"
  }
 },
 "nbformat": 4,
 "nbformat_minor": 2
}

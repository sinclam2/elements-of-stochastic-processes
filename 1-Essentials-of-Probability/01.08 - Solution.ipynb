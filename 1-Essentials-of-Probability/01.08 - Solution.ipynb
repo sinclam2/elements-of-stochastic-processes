{
 "cells": [
  {
   "cell_type": "markdown",
   "metadata": {},
   "source": [
    "- Suppose events A and B are disjoint and independent\n",
    "- Suppose P(A)=1/2\n",
    "    - *What is P(B)?*"
   ]
  },
  {
   "cell_type": "markdown",
   "metadata": {},
   "source": [
    "_____\n",
    "\n",
    "# $A$ and $B$ are *disjoint* (aka mutually independent) $\\implies P(A\\cap B) = 0$\n",
    "\n",
    "# $A$ and $B$ are *independent* $\\implies P(A \\cap B) = P(A)\\cdot P(B)$\n",
    "\n",
    "# Putting these two together:\n",
    "\n",
    "$$\n",
    "0 = P(A\\cap B) = P(A)\\cdot P(B) \\implies 0 = (1/2)\\cdot P(B) \\implies P(B)=0\n",
    "$$"
   ]
  }
 ],
 "metadata": {
  "kernelspec": {
   "display_name": "Python 3",
   "language": "python",
   "name": "python3"
  },
  "language_info": {
   "codemirror_mode": {
    "name": "ipython",
    "version": 3
   },
   "file_extension": ".py",
   "mimetype": "text/x-python",
   "name": "python",
   "nbconvert_exporter": "python",
   "pygments_lexer": "ipython3",
   "version": "3.6.4"
  }
 },
 "nbformat": 4,
 "nbformat_minor": 2
}

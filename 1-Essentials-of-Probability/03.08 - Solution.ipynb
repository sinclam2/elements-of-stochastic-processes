{
 "cells": [
  {
   "cell_type": "markdown",
   "metadata": {},
   "source": [
    "- Suppose I randomly and independently place $n$ marbles into $m$ urns, where $m\\geq2$\n",
    "- Let $N_{i}$ be the number of marbles placed in urn number $i$, so $N_{i}$ is a binomial random variale with parameters $n$ and $p=1/m$\n",
    "- Calculate $\\rho(N_{i},N_{j})$ for $i\\neq j$\n",
    "- Explain your answer in the case $m=2$"
   ]
  },
  {
   "cell_type": "markdown",
   "metadata": {},
   "source": [
    "____\n",
    "\n",
    "### Simple Example 1\n",
    "\n",
    "- Let's start thinking about this with the easiest scenario: $m=2$ and $n=1$\n",
    "    - So, what we want to model is placing a single ball into one of two urns\n",
    "    \n",
    "- There are two possible scenarios:\n",
    "    1. Drop the ball into urn 1\n",
    "    2. Drop the ball into urn 2\n",
    "    \n",
    "- This means that:\n",
    "\n",
    "$$\n",
    "P(N_{1}=x) = \\left\\{\\begin{matrix} 1/2 & x=0\\\\  1/2 & x=1 \\end{matrix}\\right.\n",
    "$$\n",
    "\n",
    "$$\n",
    "P(N_{2}=x) = \\left\\{\\begin{matrix} 1/2 & x=0\\\\  1/2 & x=1 \\end{matrix}\\right.\n",
    "$$"
   ]
  },
  {
   "cell_type": "markdown",
   "metadata": {},
   "source": [
    "- In other words, it's a 50/50 chance that the ball will end up in either urn\n",
    "    - This means that the expected number of balls placed in each urn is 0.5\n",
    "        - This means $E(N_{1}) = 0.5$, $E(N_{2})=0.5$"
   ]
  },
  {
   "cell_type": "markdown",
   "metadata": {},
   "source": [
    "- Since if the ball is in urn 1, it cannot be in urn 2, we know that $N_{1}=1\\implies N_{2}=0$\n",
    "- **Recall**: $Cov(X,Y) = E[XY]-E[X]E[Y]$"
   ]
  },
  {
   "cell_type": "markdown",
   "metadata": {},
   "source": [
    "- Since $N_{1}$ and $N_{2}$ can't both be non-zero at the same time, we know that $N_{1}\\cdot N_{2} = 0 \\implies E[N_{1}N_{2}]=0$"
   ]
  },
  {
   "cell_type": "markdown",
   "metadata": {},
   "source": [
    "- Therefore\n",
    "\n",
    "$$\n",
    "Cov(N_{1},N_{2}) = 0 - (1/2)(1/2) = -1/4\n",
    "$$"
   ]
  },
  {
   "cell_type": "markdown",
   "metadata": {},
   "source": [
    "- Now, to calculate $\\rho(N_{1},N_{2})$, we need to calculate $\\sigma_{N_{1}}$ and $\\sigma_{N_{2}}$\n",
    "    - **Recall**: the variance is the *mean squared distance from the mean*"
   ]
  },
  {
   "cell_type": "markdown",
   "metadata": {},
   "source": [
    "$$\n",
    "\\sigma^{2}_{N_{1}} = 1/2(0-1/2)^{2} + 1/2(1-1/2)^{2}= (1/2)(1/4+1/4) = 1/4 \\implies \\sigma^{2}_{N_{2}} = 1/4\n",
    "$$"
   ]
  },
  {
   "cell_type": "markdown",
   "metadata": {},
   "source": [
    "$$\n",
    "\\implies \\sigma_{N_{1}} = 1/2 = \\sigma_{N_{2}}\n",
    "$$"
   ]
  },
  {
   "cell_type": "markdown",
   "metadata": {},
   "source": [
    "$$\n",
    "\\implies \\rho(N_{1},N_{2}) = \\frac{-1/4}{(1/2)(1/2)} = -1\n",
    "$$"
   ]
  },
  {
   "cell_type": "markdown",
   "metadata": {},
   "source": [
    "- This result makes sense since if $N_{1}$ increases by one, $N_{2}$ **must decrease** by one\n",
    "    - Therefore, they're perfectly negatively correlated"
   ]
  },
  {
   "cell_type": "markdown",
   "metadata": {},
   "source": [
    "### Simple Example 2\n",
    "\n",
    "- Now, let's assume we have two balls and three urns\n",
    "\n",
    "- $P(N_{1} = 0) = 4/9$, $P(N_{1}=1) = 4/9$ and $P(N_{1}=2) = 1/9$\n",
    "    - These probabilities are the same for $N_{2}$ and $N_{3}$"
   ]
  },
  {
   "cell_type": "markdown",
   "metadata": {},
   "source": [
    "- Let's think about $E[N_{1}N_{2}]$\n",
    "    - The possible values are 0, or 1\n",
    "        - *Why can't it be 2?*\n",
    "            - Because if one is 2, the other must be zero (since there are only two balls)\n",
    "        - $N_{1}N_{2} = 1 \\implies$ both $N_{1}$ and $N_{2}$ are 1\n",
    "            - $P(N_{1}N_{2} = 1) = P(N_{1} = 1 \\cap N_{2} = 1) = 1 - P(N_{3}=1) - P(N_{3}=2) = 1 - 4/9 - 1/9$\n",
    "        - $N_{1}N_{2} = 0 \\implies$ at least one of $N_{1}$ or $N_{2}$ is zero\n",
    "            - This has probability $7/9$\n",
    "                - $P(N_{\n",
    "                - $P(N_{1}=0\\cap N_{2}=0) = P(N_{3}=2) = 1/9$\n",
    "                - "
   ]
  },
  {
   "cell_type": "markdown",
   "metadata": {},
   "source": [
    "$$\n",
    "\\implies E[N_{1}N_{2}] = (1/2)(0) + (1/2)(1) = 1/2\n",
    "$$"
   ]
  },
  {
   "cell_type": "markdown",
   "metadata": {},
   "source": [
    "$$\n",
    "E[N_{1}] = (4/9)(0) + (4/9)(1) + (1/9)(2) = 4/9 + 2/9 = 6/9 = 2/3\n",
    "$$\n",
    "\n",
    "- $E[N_{2}] = E[N_{1}]$\n",
    "\n",
    "$$\n",
    "\\implies Cov(N_{1},N_{2}) = E[N_{1}N_{2}]-E[N_{1}]E[N_{2}] = 1/2 - (2/3)(2/3) = 1/18\n",
    "$$"
   ]
  },
  {
   "cell_type": "code",
   "execution_count": 22,
   "metadata": {},
   "outputs": [],
   "source": [
    "import numpy as np\n",
    "import pandas as pd"
   ]
  },
  {
   "cell_type": "code",
   "execution_count": 46,
   "metadata": {},
   "outputs": [],
   "source": [
    "n_trials = 1000000\n",
    "\n",
    "random_array = np.random.randint(1,4,size=(n_trials, 2))"
   ]
  },
  {
   "cell_type": "code",
   "execution_count": 47,
   "metadata": {},
   "outputs": [],
   "source": [
    "df = pd.DataFrame(index=range(n_trials))\n",
    "df['N1'] = (pd.DataFrame(random_array)==1).sum(axis=1)\n",
    "df['N2'] = (pd.DataFrame(random_array)==2).sum(axis=1)\n",
    "df['N3'] = (pd.DataFrame(random_array)==3).sum(axis=1)"
   ]
  },
  {
   "cell_type": "code",
   "execution_count": 48,
   "metadata": {},
   "outputs": [
    {
     "data": {
      "text/plain": [
       "0    0.777992\n",
       "1    0.222008\n",
       "dtype: float64"
      ]
     },
     "execution_count": 48,
     "metadata": {},
     "output_type": "execute_result"
    }
   ],
   "source": [
    "(df['N1']*df['N2']).value_counts(normalize=True)"
   ]
  },
  {
   "cell_type": "code",
   "execution_count": 52,
   "metadata": {},
   "outputs": [
    {
     "data": {
      "text/plain": [
       "0.222168"
      ]
     },
     "execution_count": 52,
     "metadata": {},
     "output_type": "execute_result"
    }
   ],
   "source": [
    "len(df[(df['N1']==1) & (df['N2']==0)])/n_trials"
   ]
  },
  {
   "cell_type": "code",
   "execution_count": 45,
   "metadata": {},
   "outputs": [
    {
     "data": {
      "text/html": [
       "<div>\n",
       "<style scoped>\n",
       "    .dataframe tbody tr th:only-of-type {\n",
       "        vertical-align: middle;\n",
       "    }\n",
       "\n",
       "    .dataframe tbody tr th {\n",
       "        vertical-align: top;\n",
       "    }\n",
       "\n",
       "    .dataframe thead th {\n",
       "        text-align: right;\n",
       "    }\n",
       "</style>\n",
       "<table border=\"1\" class=\"dataframe\">\n",
       "  <thead>\n",
       "    <tr style=\"text-align: right;\">\n",
       "      <th></th>\n",
       "      <th>N1</th>\n",
       "      <th>N2</th>\n",
       "      <th>N3</th>\n",
       "    </tr>\n",
       "  </thead>\n",
       "  <tbody>\n",
       "    <tr>\n",
       "      <th>0</th>\n",
       "      <td>0</td>\n",
       "      <td>0</td>\n",
       "      <td>2</td>\n",
       "    </tr>\n",
       "    <tr>\n",
       "      <th>1</th>\n",
       "      <td>1</td>\n",
       "      <td>1</td>\n",
       "      <td>0</td>\n",
       "    </tr>\n",
       "    <tr>\n",
       "      <th>2</th>\n",
       "      <td>0</td>\n",
       "      <td>2</td>\n",
       "      <td>0</td>\n",
       "    </tr>\n",
       "    <tr>\n",
       "      <th>3</th>\n",
       "      <td>2</td>\n",
       "      <td>0</td>\n",
       "      <td>0</td>\n",
       "    </tr>\n",
       "    <tr>\n",
       "      <th>4</th>\n",
       "      <td>1</td>\n",
       "      <td>0</td>\n",
       "      <td>1</td>\n",
       "    </tr>\n",
       "    <tr>\n",
       "      <th>9</th>\n",
       "      <td>0</td>\n",
       "      <td>1</td>\n",
       "      <td>1</td>\n",
       "    </tr>\n",
       "  </tbody>\n",
       "</table>\n",
       "</div>"
      ],
      "text/plain": [
       "   N1  N2  N3\n",
       "0   0   0   2\n",
       "1   1   1   0\n",
       "2   0   2   0\n",
       "3   2   0   0\n",
       "4   1   0   1\n",
       "9   0   1   1"
      ]
     },
     "execution_count": 45,
     "metadata": {},
     "output_type": "execute_result"
    }
   ],
   "source": [
    "df.drop_duplicates()"
   ]
  },
  {
   "cell_type": "code",
   "execution_count": 50,
   "metadata": {},
   "outputs": [
    {
     "data": {
      "text/plain": [
       "0.2222222222222222"
      ]
     },
     "execution_count": 50,
     "metadata": {},
     "output_type": "execute_result"
    }
   ],
   "source": [
    "2/9"
   ]
  }
 ],
 "metadata": {
  "kernelspec": {
   "display_name": "Python 3",
   "language": "python",
   "name": "python3"
  },
  "language_info": {
   "codemirror_mode": {
    "name": "ipython",
    "version": 3
   },
   "file_extension": ".py",
   "mimetype": "text/x-python",
   "name": "python",
   "nbconvert_exporter": "python",
   "pygments_lexer": "ipython3",
   "version": "3.6.8"
  }
 },
 "nbformat": 4,
 "nbformat_minor": 2
}

{
 "cells": [
  {
   "cell_type": "markdown",
   "metadata": {},
   "source": [
    "# $n^{th}$ Moment of the Mean\n",
    "\n",
    "$$\n",
    "n^{th}\\text{ Moment of the Mean} = E[X^{n}]\n",
    "$$"
   ]
  },
  {
   "cell_type": "markdown",
   "metadata": {},
   "source": [
    "____\n",
    "\n",
    "# Variance\n",
    "\n",
    "$$\n",
    "Var(X) = \\sigma^{2} = E \\left [ \\left (X - \\mu \\right )^{2}  \\right ] = E[X^{2}] - \\left ( E[X] \\right )^{2}\n",
    "$$"
   ]
  },
  {
   "cell_type": "markdown",
   "metadata": {},
   "source": [
    "- Note: If $\\mu = 0 \\implies Var(X) = E[X^{2}]$ which is the second moment of the mean"
   ]
  },
  {
   "cell_type": "markdown",
   "metadata": {},
   "source": [
    "____\n",
    "\n",
    "# Covariance\n",
    "\n",
    "$$\n",
    "Cov(X,Y) = \\sigma_{XY} = E \\left [ \\left (X - \\mu_{X} \\right )  \\left (Y - \\mu_{Y} \\right ) \\right ] = E[XY] - E[X]E[Y]\n",
    "$$"
   ]
  },
  {
   "cell_type": "markdown",
   "metadata": {},
   "source": [
    "- If $X$ is usually **greater** than $\\mu_{X}$ when $Y$ is **greater** than $\\mu_{Y}$ then the **covariance is positive**\n",
    "- If $X$ is usually **less** than $\\mu_{X}$ when $Y$ is **greater** than $\\mu_{Y}$ then the **covariance is negative**"
   ]
  },
  {
   "cell_type": "markdown",
   "metadata": {},
   "source": [
    "**Covariance Rules**\n",
    "\n",
    "1.\n",
    "\n",
    "$$\n",
    "Cov(X,Y) = Cov(Y,X)\n",
    "$$\n",
    "\n",
    "2.\n",
    "\n",
    "$$\n",
    "Cov(aX+bY, Z) = aCov(X,Z) + bCov(Y,Z)\n",
    "$$"
   ]
  },
  {
   "cell_type": "markdown",
   "metadata": {},
   "source": [
    "- From this, we realize:\n",
    "\n",
    "$$\n",
    "Var(X) = E[X^{2}] - (E[X])^{2} = E[X\\cdot X] - E[X]\\cdot E[X] = Cov(X,X)\n",
    "$$"
   ]
  },
  {
   "cell_type": "markdown",
   "metadata": {},
   "source": [
    "- Then, applying rule 2:\n",
    "\n",
    "$$\n",
    "Var(aX + bY) = Cov(aX + bY, aX + bY) = Cov(aX, aX) + Cov(aX, bY) + Cov(bY, aX) + Cov(bY, bY) \\\\\n",
    "= a^{2}Var(X) + 2abCov(X,Y) + b^{2}Var(Y)\n",
    "$$"
   ]
  },
  {
   "cell_type": "markdown",
   "metadata": {},
   "source": [
    "____\n",
    "\n",
    "# Uncorrelated Random Variables\n",
    "\n",
    "- If $X$ and $Y$ are **uncorrelated** $\\implies Cov(X,Y) = 0$\n",
    "\n",
    "- This means that $Var(X+Y) = Var(X) + 2\\cdot0 + Var(Y) = Var(X) + Var(Y)$"
   ]
  },
  {
   "cell_type": "markdown",
   "metadata": {},
   "source": [
    "_____\n",
    "\n",
    "# Correlated Random Variables\n",
    "\n",
    "$$\n",
    "Corr(X,Y) = \\rho_{XY} = \\frac{\\sigma_{XY}}{\\sigma_{X}\\sigma_{Y}} = \\frac{Cov(X,Y)}{\\sqrt{Var(X) Var(Y)}}\n",
    "$$"
   ]
  },
  {
   "cell_type": "markdown",
   "metadata": {},
   "source": [
    "- **Note**: we assume $\\sigma_{X} \\neq 0 \\neq \\sigma_{Y}$"
   ]
  },
  {
   "cell_type": "markdown",
   "metadata": {},
   "source": [
    "____\n",
    "\n",
    "# Theorem 3.3\n",
    "\n",
    "$$\n",
    "-1 \\leq \\rho_{XY} \\leq 1\n",
    "$$"
   ]
  },
  {
   "cell_type": "markdown",
   "metadata": {},
   "source": [
    "- If $\\left | \\rho_{XY} \\right | = 1 \\implies \\exists m, b \\in \\Re \\text{  }s.t. Y = mX+b$ i.e. $Y$ is a linear function of $X$"
   ]
  }
 ],
 "metadata": {
  "kernelspec": {
   "display_name": "Python 3",
   "language": "python",
   "name": "python3"
  },
  "language_info": {
   "codemirror_mode": {
    "name": "ipython",
    "version": 3
   },
   "file_extension": ".py",
   "mimetype": "text/x-python",
   "name": "python",
   "nbconvert_exporter": "python",
   "pygments_lexer": "ipython3",
   "version": "3.6.8"
  }
 },
 "nbformat": 4,
 "nbformat_minor": 2
}

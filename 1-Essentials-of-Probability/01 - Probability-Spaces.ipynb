{
 "cells": [
  {
   "cell_type": "markdown",
   "metadata": {},
   "source": [
    "# Probability theory is the mathematical modeling of real-world experiments that have unpredictable outcomes\n",
    "\n",
    "# The mathematical model corresponding to any experiment consists of\n",
    "\n",
    "### 1. the *outcome space* $\\Omega$\n",
    "\n",
    "### 2. the collection of *events* $F$\n",
    "\n",
    "### 3. the *probability measure* $P$\n",
    "\n",
    "# Combining the three ($\\Omega, F, P$), we have a *probability space*"
   ]
  },
  {
   "cell_type": "markdown",
   "metadata": {},
   "source": [
    "_____\n",
    "\n",
    "# 1. The outcome space\n",
    "\n",
    "- aka the *sample space*\n",
    "- consists of all possible outcomes of the experiment\n",
    "\n",
    "**Example**\n",
    "\n",
    "- if our experiment is rolling a die, then the outomes are:\n",
    "\n",
    "$\\Omega = \\{1,2,3,4,5,6\\}$\n",
    "\n",
    "- **Note**: a generic outcome is typically denoted $w$"
   ]
  },
  {
   "cell_type": "markdown",
   "metadata": {},
   "source": [
    "_____\n",
    "\n",
    "# 2. The collection of events\n",
    "\n",
    "- a subset of the outcome space\n",
    "\n",
    "**Example**\n",
    "\n",
    "$\\{2,4,6\\}$ represents the even rolls of the die\n",
    "\n",
    "\n",
    "- If $A \\subset \\Omega$ is an event and the result of our experiment is contained in $A$, we say that *$A$ has occurred*\n",
    "\n",
    "- $F$ denotes all possible subsets of $\\Omega$\n",
    "    - Therefore $F$ must contain both $\\Omega$ and $\\emptyset$\n",
    "    \n",
    "- $A^{C}$ denotes the complement of event $A$\n",
    "    - This means it denotes all possible events **not contained** in $A$\n",
    "    - $A^{C}$ must be contained in $F$\n",
    "    \n",
    "- If $A$ and $B$ are both events, then $A \\cup B$ denotes all events that are contained in **either** $A$ or $B$\n",
    "    - For finite spaces $\\Omega$, then we require that $A \\cup B$ is contained in $F$\n",
    "        - When $\\Omega$ is not finite (i.e. the more general rule), we require the following:\n",
    "        \n",
    "$$\n",
    "A = \\bigcup_{i=1}^{\\infty}A_{i} = A_{1} \\cup A_{2} \\cup A_{3} \\cup... \\in F\n",
    "$$"
   ]
  },
  {
   "cell_type": "markdown",
   "metadata": {},
   "source": [
    "- All these rules can be summarized by the following axioms for any probability space $(\\Omega, F, P)$:\n",
    "\n",
    "### AXIOMS\n",
    "\n",
    "#### 1.1: \n",
    "\n",
    "$\\Omega \\in F$\n",
    "\n",
    "#### 1.2:\n",
    "\n",
    "$A \\in F \\implies A^{C} \\in F$\n",
    "\n",
    "#### 1.3:\n",
    "\n",
    "$A_{1}, A_{2}, A_{3},...\\in F \\implies \\bigcup_{i=1}^{\\infty}A_{i} = A_{1} \\cup A_{2} \\cup A_{3} \\cup... \\subset F$"
   ]
  },
  {
   "cell_type": "markdown",
   "metadata": {},
   "source": [
    "### Aside:\n",
    "\n",
    "- DeMorgan's law states:\n",
    "\n",
    "$$\n",
    "\\left ( A \\cup B \\right )^{C} = A^{C} \\cap B^{C}\n",
    "$$"
   ]
  },
  {
   "cell_type": "markdown",
   "metadata": {},
   "source": [
    "- Let's break this down:\n",
    "    - $A\\cup B$ gives us the set of all events in **both** $A$ and $B$\n",
    "        - Therefore, $\\left ( A \\cup B \\right )^{C}$ is the set of events that **are not elements of $A$ nor $B$**\n",
    "    - $A^{C}$ gives us the set of events that are not in $A$, and $B^{C}$ gives us the set of events that are not in $B$\n",
    "        - Therefore, $A^{C}\\cap B^{C}$ gives us the set of events that **are not elements of $A$ nor $B$\n",
    "        \n",
    "- So, we can see that the two are equal"
   ]
  },
  {
   "cell_type": "markdown",
   "metadata": {},
   "source": [
    "____\n",
    "\n",
    "# 3. The probability measure\n",
    "\n",
    "- A probability measure $P$ assigns a number $P(A)$ to each event $A$\n",
    "    - Intuitively, the measure tells us the likelihood of an event taking place\n",
    "        - This means that it meaures the likelihood that the experiment's outcome, denoted $w$, lies inside of $A$"
   ]
  },
  {
   "cell_type": "markdown",
   "metadata": {},
   "source": [
    "### AXIOMS (cont'd)\n",
    "\n",
    "#### 1.4: \n",
    "\n",
    "$P(\\Omega) = 1$\n",
    "\n",
    "#### 1.5: \n",
    "\n",
    "$0 \\leq P(A) \\leq 1 \\text{  } \\forall A \\in F$\n",
    "\n",
    "#### 1.6\n",
    "\n",
    "- If $A_{1}, A_{2}, ..., A_{n}$ are all disjoint events i.e. no outcome is contained in more than one set, then\n",
    "\n",
    "$P\\left (\\bigcup_{i=1}^{n}A_{i} \\right ) =  \\sum_{i=1}^{n} P(A_{i})$"
   ]
  },
  {
   "cell_type": "markdown",
   "metadata": {},
   "source": [
    "____\n",
    "\n",
    "# 4. Consequences of the axioms\n",
    "\n",
    "#### 1.7\n",
    "\n",
    "##### i. \n",
    "\n",
    "$P(\\emptyset)=0$\n",
    "\n",
    "##### ii. \n",
    "\n",
    "$P(A\\cup B) = P(A) + P(B) - P(A\\cap B)$\n",
    "\n",
    "##### iii. \n",
    "\n",
    "$A \\cap B = \\emptyset \\implies P(A\\cup B) = P(A) + P(B)$\n",
    "\n",
    "##### iv.\n",
    "\n",
    "$P(A^{C}) = 1 - P(A)$\n",
    "\n",
    "##### v. \n",
    "\n",
    "- We define $A $\\ $B = A \\cap B^{C}$ i.e. all the elements in $A$ that are **not** elements of $B$. Then:\n",
    "\n",
    "$ B \\subset A \\implies P(A$ \\ $B) = P(A) - P(B)$"
   ]
  },
  {
   "cell_type": "markdown",
   "metadata": {},
   "source": [
    "- We can use statement iii. to show that for disjoint $A_{1},A_{2},...,A_{n}$:\n",
    "\n",
    "$P(A_{1} \\cup A_{2} \\cup ... \\cup A_{n}) = P(A_{1})+P(A_{2})+...+P(A_{n})$\n",
    "\n",
    "- This property is called *finite additivity*"
   ]
  },
  {
   "cell_type": "markdown",
   "metadata": {},
   "source": [
    "____\n",
    "\n",
    "# 5. Partitions"
   ]
  },
  {
   "cell_type": "markdown",
   "metadata": {},
   "source": [
    "**Partition of $\\Omega$**\n",
    "\n",
    "- If we have events $B_{1}, B_{2},...$ such that:\n",
    "    1. No outcome is contained in more than one $B_{i}$\n",
    "    2. Every outcome in $\\Omega$ is contained in some $B_{j}$\n",
    "    \n",
    "- then we say that the events *partition $\\Omega$*"
   ]
  },
  {
   "cell_type": "markdown",
   "metadata": {},
   "source": [
    "## Theorem 1.8: *Partition Theorem*\n",
    "\n",
    "- Suppose $B_{1}$, $B_{2}$, $B_{3}$,... partition $\\Omega$. Then, for any event $A \\in F$:\n",
    "\n",
    "$$\n",
    "P(A) = \\sum_{i=1}^{\\infty}P(A\\cap B_{i})\n",
    "$$"
   ]
  },
  {
   "cell_type": "markdown",
   "metadata": {},
   "source": [
    "#### Proof:\n",
    "\n",
    "$$\n",
    "A = A \\cap \\Omega = A \\cap \\left ( \\bigcup_{i=1}^{\\infty}B_{i} \\right ) = \\bigcup_{i=1}^{\\infty} \\left ( A \\cap B_{i} \\right ) \\implies P(A) = \\sum_{i=1}^{\\infty}P(A\\cap B_{i})\n",
    "$$"
   ]
  },
  {
   "cell_type": "markdown",
   "metadata": {},
   "source": [
    "____\n",
    "\n",
    "# 6. Conditional Probability\n",
    "\n",
    "- Suppose we have events $A$ and $B$, and $B$ has some non-zero probability i.e. $P(B)>0$. Then, the **conditional probability of $A$ given $B$** is:\n",
    "\n",
    "$$\n",
    "P(A|B) = \\frac{P(A\\cap B)}{P(B)}\n",
    "$$\n",
    "\n",
    "- **Note**: $A|B$ is not an event. The $|B$ part simply indicates that $B$ has already occurred"
   ]
  },
  {
   "cell_type": "markdown",
   "metadata": {},
   "source": [
    "- If we think about it, since $A|B$ means that we want to know the likelihood of $A$ after $B$ has already occurred, we arrive at the following theorem:\n",
    "\n",
    "## Theorem 1.9 - *Partition Theorem with Conditional Probability*\n",
    "\n",
    "- If $B_{1}, B_{2}, B_{3},...$ is a partition of $\\Omega$ with $P(B_{i})>0$ then\n",
    "\n",
    "$$\n",
    "P(A) = \\sum_{i=1}^{\\infty} \\left ( P(A|B_{i})\\cdot P(B_{i}) \\right )\n",
    "$$"
   ]
  },
  {
   "cell_type": "markdown",
   "metadata": {},
   "source": [
    "- We say that a sequence of events $A_{1} \\subset A_{2} \\subset ...$ is ***increasing* towards $A$** if $\\bigcup_{i=1}^{\\infty}A_{i} = A$"
   ]
  },
  {
   "cell_type": "markdown",
   "metadata": {},
   "source": [
    "- We say that a sequence of events $B_{1} \\supset B_{2} \\supset ...$ is ***decreasing* towards $B$** if $\\bigcap_{i=1}^{\\infty}B_{i} = B$"
   ]
  },
  {
   "cell_type": "markdown",
   "metadata": {},
   "source": [
    "- We denote these two as $A_{n} \\uparrow A$ and $B_{n} \\downarrow B$ as $n\\rightarrow \\infty$"
   ]
  },
  {
   "cell_type": "markdown",
   "metadata": {},
   "source": [
    "## Theorem 1.10 - *Continuity of Probability Measures*\n",
    "\n",
    "- If $A_{n} \\uparrow A$ as $n\\rightarrow \\infty$ then $P(A_{n}) \\rightarrow P(A)$\n",
    "    - Similarly, if $B_{n} \\downarrow B$ as $n\\rightarrow \\infty$ then $P(B_{n})\\rightarrow P(B)$"
   ]
  },
  {
   "cell_type": "markdown",
   "metadata": {},
   "source": [
    "#### Proof:\n",
    "\n",
    "- If each $A_{i}$ is contained in each $A_{i+1}$, then we can think of $A_{i+1}$ as the union of the elements in $A_{i}$ and all the extra new elements\n",
    "    - i.e. $A_{i+1} = A_{i} \\cup (A_{i+1} $ \\ $ A_{i} )$"
   ]
  },
  {
   "cell_type": "markdown",
   "metadata": {},
   "source": [
    "- But we can do the same thing for $A_{i+2}$: $A_{i+2} = A_{i+1} \\cup (A_{i+2} $ \\ $ A_{i+1} ) = A_{i} \\cup (A_{i+1} $ \\ $ A_{i} )\\cup (A_{i+2} $ \\ $ A_{i+1} )$"
   ]
  },
  {
   "cell_type": "markdown",
   "metadata": {},
   "source": [
    "- We can also continue this process until we get to $A_{0}$, which we define as $A_{0} = \\emptyset$\n",
    "    - This implies $A_{1} = \\emptyset \\cup (A_{1}$ \\ $\\emptyset) = A_{1}$\n",
    "    \n",
    "- From this, we can express $A_{n}$ as:\n",
    "\n",
    "$$\n",
    "A_{n} = \\bigcup_{i=1}^{n} (A_{i} \\setminus A_{i-1} )\n",
    "$$"
   ]
  },
  {
   "cell_type": "markdown",
   "metadata": {},
   "source": [
    "- Since with each iteration we add on the elements that were **never previously included in any subset (i.e. event)**, we know that each $(A_{i} \\setminus A_{i-1} )$ is **disjoint**"
   ]
  },
  {
   "cell_type": "markdown",
   "metadata": {},
   "source": [
    "- **Recall**: Axiom 1.7.v tells us:\n",
    "\n",
    "$$\n",
    "B \\subset A \\implies P(A \\setminus B) = P(A) - P(B)\n",
    "$$"
   ]
  },
  {
   "cell_type": "markdown",
   "metadata": {},
   "source": [
    "- And Axiom 1.6 tells us:\n",
    "\n",
    "$$\n",
    "P\\left (\\bigcup_{i=1}^{n}A_{i} \\right ) =  \\sum_{i=1}^{n} P(A_{i})\n",
    "$$"
   ]
  },
  {
   "cell_type": "markdown",
   "metadata": {},
   "source": [
    "- Putting it all together, we get:\n",
    "\n",
    "$$\n",
    "P \\left ( \\bigcup_{i=1}^{n} (A_{i} \\setminus A_{i-1} ) \\right ) = \\sum_{i=1}^{n} P(A_{i} \\setminus A_{i-1} ) = \\sum_{i=1}^{n} \\left (P(A_{i})- P(A_{i-1}) \\right )\n",
    "$$"
   ]
  },
  {
   "cell_type": "markdown",
   "metadata": {},
   "source": [
    "- Then, as $n\\rightarrow \\infty$:\n",
    "\n",
    "$$\n",
    "P(A) = P \\left ( \\bigcup_{i=1}^{\\infty} (A_{i} \\setminus A_{i-1} ) \\right ) = \\sum_{i=1}^{\\infty} \\left (P(A_{i})- P(A_{i-1}) \\right ) = \\lim_{n\\rightarrow \\infty} \\left [(P(A_{1})- P(A_{0}))+(P(A_{2})- P(A_{1})) + ... + (P(A_{n-1})-P(A_{n-2}) )+ (P(A_{n})-P(A_{n-1}) )\\right ]\n",
    "= \\lim_{n\\rightarrow \\infty} \\left [ -P(A_{0}) + P(A_{1} - P(A_{1}) +P(A_{2}) - P(A_{2}) + ... + P(A_{n-1}) - P(A_{n-1}) + P(A_{n}) \\right ]\n",
    "$$\n",
    "$$\n",
    "= \\lim_{n\\rightarrow \\infty} P(A_{n}) - P(A_{0}) = \\lim_{n\\rightarrow \\infty} P(A_{n})\n",
    "$$"
   ]
  },
  {
   "cell_type": "markdown",
   "metadata": {},
   "source": [
    "## Theorem 1.11 - *Sub-Additivity of Probability Measures*\n",
    "\n",
    "- If $A_{1}, A_{2}, ...$ is **any** sequence of events, then:\n",
    "\n",
    "$$\n",
    "P\\left ( \\bigcup_{i=1}^{n}A_{i} \\right ) \\leq \\sum_{i=1}^{\\infty}P(A_{n})\n",
    "$$"
   ]
  },
  {
   "cell_type": "markdown",
   "metadata": {},
   "source": [
    "_____\n",
    "\n",
    "# 7. Independence\n",
    "\n",
    "- Events $A$ and $B$ are **independent** if $P(A\\cap B) = P(A)\\cdot P(B)$\n",
    "    - If $P(A)\\cdot P(B) > 0$, then this is equivalent to saying $P(A|B) = P(A)$ "
   ]
  },
  {
   "cell_type": "markdown",
   "metadata": {},
   "source": [
    "- This simply means that whether $B$ occurs or not, it doesn't have an impact of whether $A$ occurs\n",
    "    - E.g. if $A$ is going to the bathroom in the morning on Tuesday, and $B$ is having nice weather on Monday (i.e. the day before), the probability of $A$ isn't at all affected by $B$"
   ]
  },
  {
   "cell_type": "markdown",
   "metadata": {},
   "source": [
    "- Three events $A$, $B$, and $C$ are independent if the following conditions are satisfied:\n",
    "    1. $P(A\\cap B) = P(A)\\cdot P(B)$\n",
    "    2. $P(A\\cap C) = P(A)\\cdot P(C)$\n",
    "    3. $P(B\\cap C) = P(B)\\cdot P(C)$\n",
    "        - **Note**: if the three conditions above are satisfied, events $A$, $B$, and $C$ are said to be **pairwise independent**\n",
    "    4. $P(A\\cap B \\cap C) = P(A)\\cdot P(B) \\cdot P(C)$"
   ]
  },
  {
   "cell_type": "markdown",
   "metadata": {},
   "source": [
    "- Pairwise independence is a weaker condition than the independence of the three events\n",
    "    - *Why?*\n",
    "        - Let's consider the following example:\n",
    "        \n",
    "#### Example\n",
    "\n",
    "$$\n",
    "\\Omega = \\left \\{ 1,2,3,4 \\right \\} \\\\ A = \\{ 1, 2 \\} \\\\ B = \\{1, 3 \\} \\\\ C = \\{1, 4 \\}\\\\\n",
    "\\implies A \\cap B = \\{1\\}, A\\cap C = \\{1\\}, B\\cap C = \\{1\\}\n",
    "$$"
   ]
  },
  {
   "cell_type": "markdown",
   "metadata": {},
   "source": [
    "- Here, $P(A\\cap B)$ measures the probability that the outcome is 1 $\\implies P(A\\cap B) = 1/4$"
   ]
  },
  {
   "cell_type": "markdown",
   "metadata": {},
   "source": [
    "- Since $P(A)$ measures the probability that the outcome is 1 or 2, $P(A) = 1/2$\n",
    "    - Similarly, $P(B) = 1/2$\n",
    "        - Then, $P(A\\cap B) = 1/4 = 1/2 \\cdot 1/2 = P(A)\\cdot P(B)$"
   ]
  },
  {
   "cell_type": "markdown",
   "metadata": {},
   "source": [
    "- This is also true when we look at $B$ vs $C$, and $A$ vs $C$\n",
    "    - So $P(A\\cap C) = P(A)\\cdot P(C)$ and $P(B \\cap C) = P(B)\\cdot P(C) \\implies$ $A$, $B$, and $C$ are pairwise independent"
   ]
  },
  {
   "cell_type": "markdown",
   "metadata": {},
   "source": [
    "- But $A\\cap B \\cap C = \\{1\\} \\implies P(A\\cap B\\cap C) = 1/4 > 1/8 = P(A)\\cdot P(B)\\cdot P(C)$\n",
    "    - Therefore $A$, $B$, and $C$ are not independent events"
   ]
  },
  {
   "cell_type": "markdown",
   "metadata": {},
   "source": [
    "- This makes sense when we think about it since if we know that $A$ and $B$ have both occurred, the only possibility is that the outcome was 1 therefore $C$ necessarily also occurred"
   ]
  },
  {
   "cell_type": "markdown",
   "metadata": {},
   "source": [
    "- More generally, if we have a series of events $A_{1}$, $A_{2}$, ...then the series is **independent** if, for any subset $S \\subset \\{1,2,3,...\\}$ then:\n",
    "\n",
    "$$\n",
    "P(A_{i}\\cap A_{j}\\cap...\\cap A_{k}) = P(A_{i})\\cdot P(A_{j})\\cdot ...\\cdot P(A_{k})\n",
    "$$\n",
    "\n",
    "- for any $i,j,...,k$ in $S$"
   ]
  },
  {
   "cell_type": "markdown",
   "metadata": {},
   "source": [
    "____\n",
    "\n",
    "# 8. Discrete probability spaces\n",
    "\n",
    "- A set $A$ is **finite** if its elements can be represented in a *terminating* list\n",
    "\n",
    "$$\n",
    "A = \\{ a_{1}, a_{2}, ..., a_{n} \\}\n",
    "$$"
   ]
  },
  {
   "cell_type": "markdown",
   "metadata": {},
   "source": [
    "- A set $A$ is **countably infinite** if its elements can be represented in a *non-terminating list*\n",
    "\n",
    "$$\n",
    "A = \\{ a_{1}, a_{2}, ...\\}\n",
    "$$"
   ]
  }
 ],
 "metadata": {
  "kernelspec": {
   "display_name": "Python 3",
   "language": "python",
   "name": "python3"
  },
  "language_info": {
   "codemirror_mode": {
    "name": "ipython",
    "version": 3
   },
   "file_extension": ".py",
   "mimetype": "text/x-python",
   "name": "python",
   "nbconvert_exporter": "python",
   "pygments_lexer": "ipython3",
   "version": "3.6.8"
  }
 },
 "nbformat": 4,
 "nbformat_minor": 2
}

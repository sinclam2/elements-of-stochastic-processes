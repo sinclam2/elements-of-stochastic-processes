{
 "cells": [
  {
   "cell_type": "markdown",
   "metadata": {},
   "source": [
    "- The shelf life in hours of a perishable product is a random variable with density function:\n",
    "\n",
    "$$\n",
    "f(x) = \\left\\{\\begin{matrix}\\frac{20000}{(x+100)^{100}} & x>0\\\\ 0 & otherwise\\end{matrix}\\right.\n",
    "$$\n",
    "\n",
    "- *Find the probabilities that the product will have a shelf life:*\n",
    "    \n",
    "    a. *of at most 100 hours*\n",
    "    \n",
    "    b. *somewhere between 100 hours and 200 hours*"
   ]
  },
  {
   "cell_type": "markdown",
   "metadata": {},
   "source": [
    "____\n",
    "\n",
    "# a\n",
    "\n",
    "$$\n",
    "\\int_{0}^{100}x\\frac{20000}{(x+100)^{100}}dx = -\\frac{10000}{(x+100)^{2}} |^{100}_{0} = \\frac{10000}{100^{2}}-\\frac{10000}{200^{2}} = 1-1/4 = 3/4\n",
    "$$"
   ]
  },
  {
   "cell_type": "markdown",
   "metadata": {},
   "source": [
    "____\n",
    "\n",
    "# b\n",
    "\n",
    "$$\n",
    "\\int_{100}^{200}x\\frac{20000}{(x+100)^{100}}dx = 5/36\n",
    "$$"
   ]
  }
 ],
 "metadata": {
  "kernelspec": {
   "display_name": "Python 3",
   "language": "python",
   "name": "python3"
  },
  "language_info": {
   "codemirror_mode": {
    "name": "ipython",
    "version": 3
   },
   "file_extension": ".py",
   "mimetype": "text/x-python",
   "name": "python",
   "nbconvert_exporter": "python",
   "pygments_lexer": "ipython3",
   "version": "3.6.5"
  }
 },
 "nbformat": 4,
 "nbformat_minor": 2
}

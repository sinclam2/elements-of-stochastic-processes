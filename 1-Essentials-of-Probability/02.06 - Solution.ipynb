{
 "cells": [
  {
   "cell_type": "markdown",
   "metadata": {},
   "source": [
    "- We play the following \"fair\" game\n",
    "    - I wager $k$ dollars, and if it comes up tails I pay you $k$. If it's heads, you pay me $k$\n",
    "    \n",
    "- Suppose I pursue the following strategy:\n",
    "    - My first wager is 1 dollar\n",
    "        - Every time I lose, I double my wager from the previous game\n",
    "            - I stop playing after my first win\n",
    "            \n",
    "a. *With this strategy, what are my expected winnings?*\n",
    "\n",
    "b. *Why is this strategy unrealistic in real life?*"
   ]
  },
  {
   "cell_type": "markdown",
   "metadata": {},
   "source": [
    "____\n",
    "\n",
    "# a.\n",
    "\n",
    "$$\n",
    "E(\\text{Winnings}) = P(W)\\cdot1 + P(L)\\cdot \\left (P(W)\\cdot2 + P(L)\\cdot ... \\right ) = 1\n",
    "$$"
   ]
  },
  {
   "cell_type": "markdown",
   "metadata": {},
   "source": [
    "- Let's simulate this to confirm our result"
   ]
  },
  {
   "cell_type": "code",
   "execution_count": 45,
   "metadata": {},
   "outputs": [],
   "source": [
    "import numpy as np\n",
    "import pandas as pd\n",
    "%matplotlib inline"
   ]
  },
  {
   "cell_type": "code",
   "execution_count": 32,
   "metadata": {},
   "outputs": [],
   "source": [
    "def sim():\n",
    "    won = False\n",
    "    total = 0\n",
    "    wager = 1\n",
    "    while not won:\n",
    "        flip = np.random.randint(2)\n",
    "        if flip == 1:\n",
    "            total += wager\n",
    "            return total\n",
    "        else:\n",
    "            total -= wager\n",
    "            wager *= 2"
   ]
  },
  {
   "cell_type": "code",
   "execution_count": 37,
   "metadata": {},
   "outputs": [],
   "source": [
    "n_trials = 10000\n",
    "\n",
    "list_results = []\n",
    "\n",
    "for i in range(n_trials):\n",
    "    result = sim() \n",
    "    list_results.append(result)"
   ]
  },
  {
   "cell_type": "code",
   "execution_count": 43,
   "metadata": {},
   "outputs": [
    {
     "data": {
      "text/plain": [
       "{1}"
      ]
     },
     "execution_count": 43,
     "metadata": {},
     "output_type": "execute_result"
    }
   ],
   "source": [
    "set(list_results)"
   ]
  },
  {
   "cell_type": "markdown",
   "metadata": {},
   "source": [
    "- As we can see, there is no result other than winning 1"
   ]
  },
  {
   "cell_type": "markdown",
   "metadata": {},
   "source": [
    "____\n",
    "\n",
    "# b. \n",
    "\n",
    "- This strategy is unrealistic because we need to be able to wager an unlimited amount\n",
    "    - Eventually, we'd get cut off\n",
    "    \n",
    "- We can show this using a plot of our paths"
   ]
  },
  {
   "cell_type": "code",
   "execution_count": 44,
   "metadata": {},
   "outputs": [],
   "source": [
    "def sim2():\n",
    "    list_path = []\n",
    "    won = False\n",
    "    total = 0\n",
    "    wager = 1\n",
    "    while not won:\n",
    "        flip = np.random.randint(2)\n",
    "        if flip == 1:\n",
    "            total += wager\n",
    "            list_path.append(total)\n",
    "            return list_path\n",
    "        else:\n",
    "            total -= wager\n",
    "            wager *= 2\n",
    "            list_path.append(total)"
   ]
  },
  {
   "cell_type": "code",
   "execution_count": 59,
   "metadata": {},
   "outputs": [],
   "source": [
    "n_trials = 100\n",
    "\n",
    "df_results = pd.DataFrame()\n",
    "\n",
    "for i in range(n_trials):\n",
    "    result = sim2() \n",
    "    df_result = pd.Series(result).to_frame(name=i)\n",
    "    df_results = df_results.join(df_result, how='outer')"
   ]
  },
  {
   "cell_type": "code",
   "execution_count": 62,
   "metadata": {},
   "outputs": [
    {
     "data": {
      "text/plain": [
       "<matplotlib.axes._subplots.AxesSubplot at 0x1f182496fd0>"
      ]
     },
     "execution_count": 62,
     "metadata": {},
     "output_type": "execute_result"
    },
    {
     "data": {
      "image/png": "[encoded data removed]",
      "text/plain": [
       "<Figure size 432x288 with 1 Axes>"
      ]
     },
     "metadata": {},
     "output_type": "display_data"
    }
   ],
   "source": [
    "df_results.plot(legend=False)"
   ]
  },
  {
   "cell_type": "markdown",
   "metadata": {},
   "source": [
    "- As we can see, in one of the trials, we got 120 dollars into the hole just to re-emerge with 1 dollar"
   ]
  }
 ],
 "metadata": {
  "kernelspec": {
   "display_name": "Python 3",
   "language": "python",
   "name": "python3"
  },
  "language_info": {
   "codemirror_mode": {
    "name": "ipython",
    "version": 3
   },
   "file_extension": ".py",
   "mimetype": "text/x-python",
   "name": "python",
   "nbconvert_exporter": "python",
   "pygments_lexer": "ipython3",
   "version": "3.6.5"
  }
 },
 "nbformat": 4,
 "nbformat_minor": 2
}

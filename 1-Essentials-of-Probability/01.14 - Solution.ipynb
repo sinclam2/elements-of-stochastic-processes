{
 "cells": [
  {
   "cell_type": "markdown",
   "metadata": {},
   "source": [
    "- Suppose an urn has 500 coins in it: 499 are fair coins, but one coin has two heads\n",
    "\n",
    "- Suppose I randomly select a coin and toss it 9 times getting 9 heads in a row\n",
    "\n",
    "- *What is the probability I selected the unfair coin?*"
   ]
  },
  {
   "cell_type": "markdown",
   "metadata": {},
   "source": [
    "____\n",
    "\n",
    "$$\n",
    "P\\left (\\text{Unfair Coin  } | \\text{  9H} \\right ) = \\frac{P\\left (\\text{Unfair Coin}\\cap \\text{9H} \\right )}{P \\left (9H \\right )}\n",
    "$$"
   ]
  },
  {
   "cell_type": "markdown",
   "metadata": {},
   "source": [
    "$$\n",
    "= \\frac{P(\\text{9H  }|\\text{  Unfair Coin})\\cdot P(\\text{Unfair Coin})}{P(\\text{Fair Coin})\\cdot P(\\text{9H  }|\\text{Fair Coin}) + P(\\text{Unfair Coin})\\cdot P(\\text{9H  }|\\text{Unfair Coin})}\n",
    "$$"
   ]
  },
  {
   "cell_type": "markdown",
   "metadata": {},
   "source": [
    "$$\n",
    "= \\frac{(1)\\cdot (1/500)}{(499/500)\\cdot(1/2)^{9} + (1/500)\\cdot(1)} = 0.50643\n",
    "$$"
   ]
  },
  {
   "cell_type": "markdown",
   "metadata": {},
   "source": [
    "____\n",
    "\n",
    "- Simulating to tie out results"
   ]
  },
  {
   "cell_type": "code",
   "execution_count": 1,
   "metadata": {},
   "outputs": [],
   "source": [
    "import numpy as np\n",
    "import pandas as pd"
   ]
  },
  {
   "cell_type": "code",
   "execution_count": 8,
   "metadata": {},
   "outputs": [],
   "source": [
    "np.random.seed(1)\n",
    "n_trials = 10000000\n",
    "n_flips = 9\n",
    "random_coin_placement = np.random.randint(500)\n",
    "\n",
    "array_fair_coin = np.random.randint(0, 2, size=[n_trials, n_flips])\n",
    "array_unfair_coin = np.tile(1, [n_trials, n_flips])\n",
    "\n",
    "array_coin_assignment = np.random.randint(500, size=n_trials)[:, np.newaxis]\n",
    "array_boolean = (array_coin_assignment==random_coin_placement)\n",
    "\n",
    "array_n_heads = np.sum(array_fair_coin*(1-array_boolean) + array_unfair_coin*array_boolean, axis=1)"
   ]
  },
  {
   "cell_type": "code",
   "execution_count": 9,
   "metadata": {},
   "outputs": [],
   "source": [
    "df_summary = pd.DataFrame(np.c_[array_boolean,array_n_heads], columns = ['Unfair Coin Flag', 'N Heads Observed'])"
   ]
  },
  {
   "cell_type": "code",
   "execution_count": 10,
   "metadata": {},
   "outputs": [
    {
     "data": {
      "text/plain": [
       "0.5062256415447689"
      ]
     },
     "execution_count": 10,
     "metadata": {},
     "output_type": "execute_result"
    }
   ],
   "source": [
    "df_summary[df_summary['N Heads Observed']==9]['Unfair Coin Flag'].mean()"
   ]
  },
  {
   "cell_type": "markdown",
   "metadata": {},
   "source": [
    "- Very close!"
   ]
  }
 ],
 "metadata": {
  "kernelspec": {
   "display_name": "Python 3",
   "language": "python",
   "name": "python3"
  },
  "language_info": {
   "codemirror_mode": {
    "name": "ipython",
    "version": 3
   },
   "file_extension": ".py",
   "mimetype": "text/x-python",
   "name": "python",
   "nbconvert_exporter": "python",
   "pygments_lexer": "ipython3",
   "version": "3.6.5"
  }
 },
 "nbformat": 4,
 "nbformat_minor": 2
}

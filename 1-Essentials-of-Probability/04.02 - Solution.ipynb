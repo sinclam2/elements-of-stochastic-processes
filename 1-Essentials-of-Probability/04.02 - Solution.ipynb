{
 "cells": [
  {
   "cell_type": "markdown",
   "metadata": {},
   "source": [
    "- Compute the marginal mass function for the following joint mass function for $(X,Y)$\n",
    "\n",
    "$$\n",
    "p(x,y) = \\left\\{\\begin{matrix}1/2 & X=0, Y=1\\\\ 1/2 & X=1, Y=0\\\\ 0 & otherwise\\end{matrix}\\right.\n",
    "$$"
   ]
  },
  {
   "cell_type": "markdown",
   "metadata": {},
   "source": [
    "____\n",
    "\n",
    "- This is the same as the previous question"
   ]
  }
 ],
 "metadata": {
  "kernelspec": {
   "display_name": "Python 3",
   "language": "python",
   "name": "python3"
  },
  "language_info": {
   "codemirror_mode": {
    "name": "ipython",
    "version": 3
   },
   "file_extension": ".py",
   "mimetype": "text/x-python",
   "name": "python",
   "nbconvert_exporter": "python",
   "pygments_lexer": "ipython3",
   "version": "3.6.8"
  }
 },
 "nbformat": 4,
 "nbformat_minor": 2
}

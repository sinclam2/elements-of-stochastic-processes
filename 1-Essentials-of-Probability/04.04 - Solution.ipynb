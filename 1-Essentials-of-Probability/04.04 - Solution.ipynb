{
 "cells": [
  {
   "cell_type": "markdown",
   "metadata": {},
   "source": [
    "- The joint mass function for (X,Y) is given by:\n",
    "\n",
    "![](images/04.04.PNG)"
   ]
  },
  {
   "cell_type": "markdown",
   "metadata": {},
   "source": [
    "**a**\n",
    "\n",
    "- Calculate the marginal mass functions of $X$ and $Y$\n",
    "\n",
    "**b**\n",
    "\n",
    "- Also calculate $P(X+Y\\text{ is even})$ and $P(Y\\geq1|X=2)$"
   ]
  },
  {
   "cell_type": "markdown",
   "metadata": {},
   "source": [
    "_____\n",
    "\n",
    "# a\n",
    "\n",
    "- Starting with $X$\n",
    "    - $Range(X) = \\{2,4,6\\}$\n",
    "    - $Range(Y) = \\{0,1,2\\}$\n",
    "\n",
    "$$\n",
    "P(X=2) = P(X=2 \\cap Y=0) + P(X=2 \\cap Y=1) + P(X=2 \\cap Y=2) = 0.10 + 0.15 + 0.05 = 0.3\n",
    "$$"
   ]
  },
  {
   "cell_type": "markdown",
   "metadata": {},
   "source": [
    "$$\n",
    "P(X=4) = P(X=4 \\cap Y=0) + P(X=4 \\cap Y=1) + P(X=4 \\cap Y=2) = 0.20 + 0.10 + 0.05 = 0.35\n",
    "$$"
   ]
  },
  {
   "cell_type": "markdown",
   "metadata": {},
   "source": [
    "$$\n",
    "P(X=6) = P(X=6 \\cap Y=0) + P(X=6 \\cap Y=1) + P(X=6 \\cap Y=2) = 0.05 + 0.15 + 0.15 = 0.35\n",
    "$$"
   ]
  },
  {
   "cell_type": "markdown",
   "metadata": {},
   "source": [
    "- As we can see, we just took the sum of each row\n",
    "    - For $Y$, we can just tak the sum of each column:\n",
    "    \n",
    "$$\n",
    "P(Y=0) = 0.35;\\text{   }P(Y=1)=0.4;\\text{   }P(Y=2)=0.25\n",
    "$$"
   ]
  },
  {
   "cell_type": "markdown",
   "metadata": {},
   "source": [
    "____\n",
    "\n",
    "# b\n",
    "\n",
    "- We'll start with $P(X+Y\\text{ is even})$\n",
    "    - All $X$ values are even\n",
    "        - Therefore, for $X+Y$ to be even, $Y$ must be even\n",
    "- This simplifies the calculation:\n",
    "\n",
    "$$\n",
    "P(X+Y\\text{ is even}) = P(Y\\text{ is even}) = 1 - P(Y\\text{ is odd}) = 1 - P(Y=1) = 1-0.4 = 0.6\n",
    "$$"
   ]
  },
  {
   "cell_type": "markdown",
   "metadata": {},
   "source": [
    "- Now onto $P(Y\\geq1|X=2)$\n",
    "\n",
    "- **Recall**:\n",
    "\n",
    "$$\n",
    "P(Y\\geq1|X=2) = \\frac{P(Y\\geq1 \\cap X=2)}{P(X=2)}\n",
    "$$"
   ]
  },
  {
   "cell_type": "markdown",
   "metadata": {},
   "source": [
    "- We know the value of the denominator\n",
    "\n",
    "$$\n",
    "P(X=2) = 0.3\n",
    "$$"
   ]
  },
  {
   "cell_type": "markdown",
   "metadata": {},
   "source": [
    "- And for the numerator:\n",
    "\n",
    "$$\n",
    "P(Y\\geq1 \\cap X=2) = P(Y=1 \\cap X=2) + P(Y=2 \\cap X=2) = 0.15 + 0.05 = 0.2\n",
    "$$"
   ]
  },
  {
   "cell_type": "markdown",
   "metadata": {},
   "source": [
    "- Putting it all together:\n",
    "\n",
    "$$\n",
    "P(Y\\geq1|X=2) = \\frac{P(Y\\geq1 \\cap X=2)}{P(X=2)} = \\frac{0.2}{0.3} = 2/3\n",
    "$$"
   ]
  }
 ],
 "metadata": {
  "kernelspec": {
   "display_name": "Python 3",
   "language": "python",
   "name": "python3"
  },
  "language_info": {
   "codemirror_mode": {
    "name": "ipython",
    "version": 3
   },
   "file_extension": ".py",
   "mimetype": "text/x-python",
   "name": "python",
   "nbconvert_exporter": "python",
   "pygments_lexer": "ipython3",
   "version": "3.6.8"
  }
 },
 "nbformat": 4,
 "nbformat_minor": 2
}

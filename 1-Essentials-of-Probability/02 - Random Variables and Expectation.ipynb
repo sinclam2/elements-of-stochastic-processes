{
 "cells": [
  {
   "cell_type": "markdown",
   "metadata": {},
   "source": [
    "# Random Variables\n",
    "\n",
    "- a real valued function that maps an event to a real number\n",
    "- in English, it's is a variable **whose value is randomly assigned by some event**, but **each value can be assigned some probability of occurring**\n",
    "    - E.g. rolling a die\n",
    "        - The number we roll is random, but each has a probability of 1/6\n",
    "    - E.g winning the lottery\n",
    "        - The possible values are 0 (representing not winning) and 1 (representing winning)\n",
    "            - Since we're much more likely to win than lose, $P(0) >> P(1)$"
   ]
  },
  {
   "cell_type": "markdown",
   "metadata": {},
   "source": [
    "# Discrete Random Variables\n",
    "\n",
    "- these random variables represent processes where there's a **finite number of possible outcomes**\n",
    "    - E.g. flipping a coin (H or T)\n",
    "    - E.g. rolling a die (1,2,3,4,5,6)\n",
    "    - E.g. which pair of pants we wear to work\n",
    "    \n",
    "# Probability Mass Function\n",
    "\n",
    "- tells us the probability of some event occurring\n",
    "- denoted $p_{X}(x)$ and is defined as:\n",
    "\n",
    "$$\n",
    "p_{X}(x) = P(X=x)\n",
    "$$"
   ]
  },
  {
   "cell_type": "markdown",
   "metadata": {},
   "source": [
    "# Expected Value of a Discrete Random Variable\n",
    "\n",
    "$$\n",
    "E(X) = \\sum xp_{X}(x)\n",
    "$$"
   ]
  },
  {
   "cell_type": "markdown",
   "metadata": {},
   "source": [
    "# Continuous Random Variable\n",
    "\n",
    "- these random variables represent processes where there's an **infinite number of possible outcomes**\n",
    "    - E.g. the temperature tomorrow morning\n",
    "        - Can be 10 degrees, 10.1 degrees, 10.11 degrees, 13 degrees, etc.\n",
    "    - E.g. the length of my big toe\n",
    "        - Can be 2cm, 20cm, 200cm, 20.69cm, etc.\n",
    "        \n",
    "# Probability Density Function\n",
    "\n",
    "- tells us the probability that the outcome will be **between** two values\n",
    "- denoted $f(x)$\n",
    "\n",
    "$$\n",
    "P(a<X<b) = \\int_{a}^{b}f(x)dx\n",
    "$$"
   ]
  },
  {
   "cell_type": "markdown",
   "metadata": {},
   "source": [
    "# Expected Value of a Continuous Random Variable\n",
    "\n",
    "$$\n",
    "E(X) = \\int_{-\\infty}^{\\infty}xf(x)dx\n",
    "$$"
   ]
  },
  {
   "cell_type": "markdown",
   "metadata": {},
   "source": [
    "# Theorem 2.4 - Properties of Expectations\n",
    "\n",
    "## 1\n",
    "\n",
    "$$\n",
    "E(aX+bY) = aE(X) + bE(Y)\n",
    "$$\n",
    "\n",
    "## 2\n",
    "\n",
    "$$\n",
    "| E(X) | \\leq E(|X|)\n",
    "$$\n",
    "\n",
    "## 3\n",
    "\n",
    "$$\n",
    "X \\leq Y \\implies E(X) \\leq E(Y)\n",
    "$$\n",
    "\n",
    "## 4\n",
    "\n",
    "$$\n",
    "0 \\leq X \\implies 0 \\leq E(X)\n",
    "$$"
   ]
  },
  {
   "cell_type": "markdown",
   "metadata": {},
   "source": [
    "# Theorem 2.5\n",
    "\n",
    "## Discrete\n",
    "\n",
    "$$\n",
    "E(g(X)) = \\sum g(x)p_{X}(x)\n",
    "$$\n",
    "\n",
    "## Continuous\n",
    "\n",
    "$$\n",
    "E(g(X)) = \\int_{-\\infty}^{\\infty}g(x)f(x)dx\n",
    "$$"
   ]
  },
  {
   "cell_type": "markdown",
   "metadata": {},
   "source": [
    "# Indicator Random Variable\n",
    "\n",
    "- If $A$ is an event, then the indicator variable of $A$ is defined as:\n",
    "\n",
    "$$\n",
    "I_{A}(w) = \\left\\{\\begin{matrix}1 & \\text{if  }w\\in A\\\\ 0 & \\text{if  }w\\notin A\\end{matrix}\\right.\n",
    "$$"
   ]
  },
  {
   "cell_type": "markdown",
   "metadata": {},
   "source": [
    "- This implies:\n",
    "\n",
    "$$\n",
    "E(I_{A}) = 0\\cdot P(I_{A}=0) + 1\\cdot P(I_{A}=1) = P(A)\n",
    "$$"
   ]
  }
 ],
 "metadata": {
  "kernelspec": {
   "display_name": "Python 3",
   "language": "python",
   "name": "python3"
  },
  "language_info": {
   "codemirror_mode": {
    "name": "ipython",
    "version": 3
   },
   "file_extension": ".py",
   "mimetype": "text/x-python",
   "name": "python",
   "nbconvert_exporter": "python",
   "pygments_lexer": "ipython3",
   "version": "3.6.8"
  }
 },
 "nbformat": 4,
 "nbformat_minor": 2
}
